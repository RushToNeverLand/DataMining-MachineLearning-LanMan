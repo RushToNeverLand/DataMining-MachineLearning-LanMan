{
 "cells": [
  {
   "cell_type": "code",
   "execution_count": 1,
   "metadata": {
    "collapsed": true
   },
   "outputs": [],
   "source": [
    "import numpy as np\n",
    "import pandas as pd\n",
    "%matplotlib inline\n",
    "import matplotlib.pyplot as plt\n",
    "\n",
    "inputfile=r'data\\huizong.csv'\n",
    "outputfile=r'data\\meidi_jd.txt'"
   ]
  },
  {
   "cell_type": "code",
   "execution_count": 2,
   "metadata": {
    "collapsed": true
   },
   "outputs": [],
   "source": [
    "data=pd.read_csv(inputfile,encoding='utf-8')\n",
    "data=data[[u'评论']][data[u'品牌']==u'美的']\n",
    "data.to_csv(outputfile,index=False,header=False,encoding='utf-8')"
   ]
  },
  {
   "cell_type": "raw",
   "metadata": {
    "collapsed": true
   },
   "source": []
  },
  {
   "cell_type": "code",
   "execution_count": 3,
   "metadata": {
    "collapsed": false
   },
   "outputs": [
    {
     "name": "stdout",
     "output_type": "stream",
     "text": [
      "55774\n",
      "                                    评论\n",
      "95898         京东商城信得过，买的放心，用的省心、安心、放心！\n",
      "95899  给公司宿舍买的，上门安装很快，快递也送的及时，不错的。给五分吧\n",
      "95900                      美的值得信赖，质量不错\n",
      "95901         不错不错的哦，第一次在京东买这些产品，感觉相当好\n",
      "95902            很满意，水方一晚上都还是热的早上还能再洗，\n",
      "                                                     评论\n",
      "151667                             还没用使用，感觉很不错。送货师傅人很好，\n",
      "151668   就是美的安装人员安都没安完  混水阀没安 跟我说 原配那个太丑了 建议自己去买个新的 好看的\n",
      "151669  用的不错挺好的。安装师傅也很好。提醒亲们，自己提前预约品牌客服安装，京东不管！省得耽误一天时间\n",
      "151670                                     东西是送朋友的 说挺好的\n",
      "151671                                     价格便宜 不错 是正品！\n"
     ]
    }
   ],
   "source": [
    "print len(data)\n",
    "print data.head()\n",
    "print data.tail()"
   ]
  },
  {
   "cell_type": "code",
   "execution_count": 4,
   "metadata": {
    "collapsed": false
   },
   "outputs": [
    {
     "name": "stdout",
     "output_type": "stream",
     "text": [
      "一般一般一般一般一般一般一般一般一般一般一般一般一般一般一般一般一般一般一般一般一般一般一般一般 \n",
      "\n",
      "1.11111E+32 \n",
      "\n",
      "本人2014年8月3日购买的热水器，送货很快8月4日中午及送达，送货人员告诉我24小时内安装务必留人，于是8月5日我家留人等候安装，24小时内也就是说8月5日上午就可以安装完成，但安装人员迟迟没有来，直到给售后打电话确认才被通知，送货当天要打电话通知安装。如果不是送货人员告诉我们24小时内安装务必留人，我能不通知售后来安装吗？居然倒打一耙。下午5点安装人员到来，宣称必须要安装在卫生间才行，可我家卫生间有限一直是安装在厨房的，且之前2台热水器都在厨房，现在却被通知安装在厕所，理由是热水器可能会爆炸，爆炸后水无处排放流到楼下，概不负责。我只想问你美的热水器爆炸隐患够高啊，我现在都想退货了。而且所有零配件都得用你们美的的，我的都是不好的，你们就为了挣这点钱吧，欺负我们消费者愚昧吧。装我家厨房墙上有孔不用打，你们不满意，因为这样你们少挣钱了，用我准备的东西你们不满意，因为你们也少挣钱了，你们的美的的服务就这么次吗？希望你们可以给个说法，本人客观评价，随时等候你们联系 \n",
      "\n",
      "还没安装！！！！！！！！！！！ \n",
      "\n"
     ]
    }
   ],
   "source": [
    "print data.iloc[55430][0],'\\n'\n",
    "print data.iloc[55370][0],'\\n'\n",
    "print data.iloc[55357][0],'\\n'\n",
    "print data.iloc[55584][0],'\\n'"
   ]
  },
  {
   "cell_type": "code",
   "execution_count": 5,
   "metadata": {
    "collapsed": false
   },
   "outputs": [
    {
     "name": "stdout",
     "output_type": "stream",
     "text": [
      "原始数据 55774条评论，现在剩余 53049条评论\n",
      "删除了 2725条重复评论\n"
     ]
    }
   ],
   "source": [
    "inputfile=r'data\\meidi_jd.txt'\n",
    "outputfile=r'data\\meidi_jd_process_1.txt'\n",
    "data=pd.read_csv(inputfile,encoding='utf-8',header=None)\n",
    "l1=len(data)\n",
    "data=pd.DataFrame(data[0].unique())\n",
    "l2=len(data)\n",
    "data.to_csv(outputfile,index=False,header=False,encoding='utf-8')\n",
    "print u'原始数据 %s条评论，现在剩余 %s条评论'%(l1,l2)\n",
    "print u'删除了 %s条重复评论'%(l1-l2)"
   ]
  },
  {
   "cell_type": "code",
   "execution_count": 6,
   "metadata": {
    "collapsed": false
   },
   "outputs": [
    {
     "ename": "ImportError",
     "evalue": "No module named snownlp",
     "output_type": "error",
     "traceback": [
      "\u001b[0;31m---------------------------------------------------------------------------\u001b[0m",
      "\u001b[0;31mImportError\u001b[0m                               Traceback (most recent call last)",
      "\u001b[0;32m<ipython-input-6-1d8709bd7059>\u001b[0m in \u001b[0;36m<module>\u001b[0;34m()\u001b[0m\n\u001b[0;32m----> 1\u001b[0;31m \u001b[1;32mfrom\u001b[0m \u001b[0msnownlp\u001b[0m \u001b[1;32mimport\u001b[0m \u001b[0mSnowNLP\u001b[0m\u001b[1;33m\u001b[0m\u001b[0m\n\u001b[0m\u001b[1;32m      2\u001b[0m \u001b[1;33m\u001b[0m\u001b[0m\n\u001b[1;32m      3\u001b[0m \u001b[0ms\u001b[0m\u001b[1;33m=\u001b[0m\u001b[1;34m'一般一般一般一般一般一般一般一般一般一般一般一般一般'\u001b[0m\u001b[1;33m\u001b[0m\u001b[0m\n\u001b[1;32m      4\u001b[0m \u001b[1;32mprint\u001b[0m \u001b[0ms\u001b[0m\u001b[1;33m,\u001b[0m\u001b[0mSnowNLP\u001b[0m\u001b[1;33m(\u001b[0m\u001b[0ms\u001b[0m\u001b[1;33m)\u001b[0m\u001b[1;33m.\u001b[0m\u001b[0msentiments\u001b[0m\u001b[1;33m\u001b[0m\u001b[0m\n",
      "\u001b[0;31mImportError\u001b[0m: No module named snownlp"
     ]
    }
   ],
   "source": [
    "from snownlp import SnowNLP\n",
    "\n",
    "s='一般一般一般一般一般一般一般一般一般一般一般一般一般'\n",
    "print s,SnowNLP(s).sentiments"
   ]
  },
  {
   "cell_type": "code",
   "execution_count": null,
   "metadata": {
    "collapsed": true
   },
   "outputs": [],
   "source": [
    "import sys\n",
    "reload(sys)\n",
    "sys.setdefaultencoding('utf-8')\n",
    "\n",
    "import time\n",
    "import csv,codecs"
   ]
  }
 ],
 "metadata": {
  "kernelspec": {
   "display_name": "Python 2",
   "language": "python",
   "name": "python2"
  },
  "language_info": {
   "codemirror_mode": {
    "name": "ipython",
    "version": 2
   },
   "file_extension": ".py",
   "mimetype": "text/x-python",
   "name": "python",
   "nbconvert_exporter": "python",
   "pygments_lexer": "ipython2",
   "version": "2.7.13"
  }
 },
 "nbformat": 4,
 "nbformat_minor": 2
}
