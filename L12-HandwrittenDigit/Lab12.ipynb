{
 "cells": [
  {
   "cell_type": "code",
   "execution_count": 1,
   "metadata": {
    "collapsed": true
   },
   "outputs": [],
   "source": [
    "from __future__ import division\n",
    "import os,sys\n",
    "\n",
    "%matplotlib inline\n",
    "import matplotlib.pyplot as plt\n",
    "\n",
    "import pandas as pd\n",
    "import numpy as np"
   ]
  },
  {
   "cell_type": "code",
   "execution_count": 6,
   "metadata": {
    "collapsed": true
   },
   "outputs": [],
   "source": [
    "import operator\n",
    "from numpy import *\n",
    "\n",
    "def createTrainDataSet():\n",
    "    traindataset=array([[1.0,1.1],[1.0,1.0],[0,0],[0,0.1]])\n",
    "    labels=['A','A','B','B']\n",
    "    return traindataset,labels"
   ]
  },
  {
   "cell_type": "code",
   "execution_count": 7,
   "metadata": {
    "collapsed": false
   },
   "outputs": [
    {
     "name": "stdout",
     "output_type": "stream",
     "text": [
      "[[ 1.   1.1]\n",
      " [ 1.   1. ]\n",
      " [ 0.   0. ]\n",
      " [ 0.   0.1]]\n",
      "['A', 'A', 'B', 'B']\n"
     ]
    }
   ],
   "source": [
    "trdataset,labels=createTrainDataSet()\n",
    "print trdataset\n",
    "print labels"
   ]
  },
  {
   "cell_type": "raw",
   "metadata": {},
   "source": []
  },
  {
   "cell_type": "code",
   "execution_count": 10,
   "metadata": {
    "collapsed": false
   },
   "outputs": [
    {
     "name": "stdout",
     "output_type": "stream",
     "text": [
      "4\n",
      "2\n"
     ]
    }
   ],
   "source": [
    "print trdataset.shape[0]\n",
    "print trdataset.shape[1]"
   ]
  },
  {
   "cell_type": "code",
   "execution_count": 11,
   "metadata": {
    "collapsed": true
   },
   "outputs": [],
   "source": [
    "def kNN(newInput,dataSet,labels,k):\n",
    "    dataSetSize=dataSet.shape[0]\n",
    "    \n",
    "    diff=tile(newInput,(dataSetSize,1))-dataSet\n",
    "    squareDiff=diff**2\n",
    "    squareDist=sum(squareDiff,axis=1)\n",
    "    distances=squareDist**0.5\n",
    "    \n",
    "    sortedDistIndicies=distances.argsort()\n",
    "    \n",
    "    classCount={}\n",
    "    for i in range(k):\n",
    "        votellabel=labels[sortedDistIndicies[i]]\n",
    "        classCount[votellabel]=classCount.get(votellabel,0)+1\n",
    "        \n",
    "    sortedClassCount=sorted(classCount.iteritems(),key=operator.itemgetter(1),reverse=True)\n",
    "    \n",
    "    return sortedClassCount[0][0]"
   ]
  },
  {
   "cell_type": "code",
   "execution_count": 12,
   "metadata": {
    "collapsed": false
   },
   "outputs": [
    {
     "data": {
      "text/plain": [
       "'B'"
      ]
     },
     "execution_count": 12,
     "metadata": {},
     "output_type": "execute_result"
    }
   ],
   "source": [
    "kNN([0.6,0.3],trdataset,labels,3)"
   ]
  },
  {
   "cell_type": "code",
   "execution_count": 13,
   "metadata": {
    "collapsed": false
   },
   "outputs": [
    {
     "data": {
      "text/plain": [
       "'A'"
      ]
     },
     "execution_count": 13,
     "metadata": {},
     "output_type": "execute_result"
    }
   ],
   "source": [
    "kNN([1.2,0.8],trdataset,labels,3)"
   ]
  },
  {
   "cell_type": "code",
   "execution_count": 16,
   "metadata": {
    "collapsed": false
   },
   "outputs": [],
   "source": [
    "def img2vect(filename):\n",
    "    returnVect=zeros((1,1024))\n",
    "    fr=open(filename)\n",
    "    \n",
    "    for i in range(32):\n",
    "        lineStr=fr.readline()\n",
    "        for j in range(32):\n",
    "            returnVect[0,32*i+j]=int(lineStr[j])\n",
    "            \n",
    "    return returnVect"
   ]
  },
  {
   "cell_type": "code",
   "execution_count": 17,
   "metadata": {
    "collapsed": false
   },
   "outputs": [
    {
     "name": "stdout",
     "output_type": "stream",
     "text": [
      "[ 0.  0.  0.  0.  0.  0.  0.  0.  0.  0.  0.  0.  0.  0.  1.  1.  0.  0.\n",
      "  0.  0.  0.  0.  0.  0.  0.  0.  0.  0.  0.  0.  0.]\n",
      "[ 0.  0.  0.  0.  0.  0.  0.  0.  0.  0.  0.  0.  1.  1.  1.  1.  1.  1.\n",
      "  0.  0.  0.  0.  0.  0.  0.  0.  0.  0.  0.  0.  0.]\n"
     ]
    }
   ],
   "source": [
    "testVec=img2vect('data/0_5.txt')\n",
    "print testVec[0,0:31]\n",
    "print testVec[0,32:63]"
   ]
  },
  {
   "cell_type": "code",
   "execution_count": 18,
   "metadata": {
    "collapsed": false
   },
   "outputs": [
    {
     "name": "stdout",
     "output_type": "stream",
     "text": [
      "训练样本个数： 1500\n",
      "训练样本个数： 434\n"
     ]
    }
   ],
   "source": [
    "from os import listdir\n",
    "\n",
    "trainingFileList=listdir('data/trainingDigits/')\n",
    "print '训练样本个数： %d'%(len(trainingFileList))\n",
    "\n",
    "testFileList=listdir('data/testDigits/')\n",
    "print '训练样本个数： %d'%(len(testFileList))"
   ]
  },
  {
   "cell_type": "code",
   "execution_count": 19,
   "metadata": {
    "collapsed": true
   },
   "outputs": [],
   "source": [
    "def handwritingClassTest():\n",
    "    hwlabels=[]\n",
    "    trainingFileList=listdir('data/trainingDigits/')\n",
    "    m=len(trainingFileList)\n",
    "    trainingMat=zeros((m,1024))\n",
    "    for i in range(m):\n",
    "        filenamestr=trainingFileList[i]\n",
    "        filestr=filenamestr.split('.')[0]\n",
    "        classnumstr=int(filestr.split('_')[0])\n",
    "        hwlabels.append(classnumstr)\n",
    "        trainingMat[i,:]=img2vect('data/trainingDigits/%s'%(filenamestr))\n",
    "        \n",
    "    testFileList=listdir('data/testDigits')\n",
    "    errorCount=0.0\n",
    "    mTest=len(testFileList)\n",
    "    for i in range(mTest):\n",
    "        fileNameStr=testFileList[i]\n",
    "        fileStr=fileNameStr.split('.')[0]\n",
    "        classNumStr=int(fileStr.split('_')[0])\n",
    "        vectorUnderTest=img2vect('data/testDigits/%s' % (fileNameStr))\n",
    "        classifierResult=kNN(vectorUnderTest,trainingMat,hwlabels,3)\n",
    "        print '分类器预测结果为： %d,    真是结果为： %d'%(classifierResult,classNumStr)\n",
    "        if(classifierResult!=classNumStr):\n",
    "            errorCount+=1.0\n",
    "    \n",
    "    print '\\n 测试样本个数为： %d'%(mTest)\n",
    "    print ' 预测错位个数为： %d'%(errorCount)\n",
    "    print ' 预测错误率为： %2.2f%%'%(errorCount/float(mTest)*100.0)\n",
    "    print ' 预测正确率为： %2.2f%%'%((1-errorCount/float(mTest))*100.0)"
   ]
  },
  {
   "cell_type": "code",
   "execution_count": 20,
   "metadata": {
    "collapsed": false
   },
   "outputs": [
    {
     "name": "stdout",
     "output_type": "stream",
     "text": [
      "分类器预测结果为： 0,    真是结果为： 0\n",
      "分类器预测结果为： 0,    真是结果为： 0\n",
      "分类器预测结果为： 0,    真是结果为： 0\n",
      "分类器预测结果为： 0,    真是结果为： 0\n",
      "分类器预测结果为： 0,    真是结果为： 0\n",
      "分类器预测结果为： 0,    真是结果为： 0\n",
      "分类器预测结果为： 0,    真是结果为： 0\n",
      "分类器预测结果为： 0,    真是结果为： 0\n",
      "分类器预测结果为： 0,    真是结果为： 0\n",
      "分类器预测结果为： 0,    真是结果为： 0\n",
      "分类器预测结果为： 0,    真是结果为： 0\n",
      "分类器预测结果为： 0,    真是结果为： 0\n",
      "分类器预测结果为： 0,    真是结果为： 0\n",
      "分类器预测结果为： 0,    真是结果为： 0\n",
      "分类器预测结果为： 4,    真是结果为： 0\n",
      "分类器预测结果为： 0,    真是结果为： 0\n",
      "分类器预测结果为： 0,    真是结果为： 0\n",
      "分类器预测结果为： 0,    真是结果为： 0\n",
      "分类器预测结果为： 0,    真是结果为： 0\n",
      "分类器预测结果为： 0,    真是结果为： 0\n",
      "分类器预测结果为： 0,    真是结果为： 0\n",
      "分类器预测结果为： 0,    真是结果为： 0\n",
      "分类器预测结果为： 0,    真是结果为： 0\n",
      "分类器预测结果为： 0,    真是结果为： 0\n",
      "分类器预测结果为： 0,    真是结果为： 0\n",
      "分类器预测结果为： 0,    真是结果为： 0\n",
      "分类器预测结果为： 0,    真是结果为： 0\n",
      "分类器预测结果为： 0,    真是结果为： 0\n",
      "分类器预测结果为： 0,    真是结果为： 0\n",
      "分类器预测结果为： 0,    真是结果为： 0\n",
      "分类器预测结果为： 0,    真是结果为： 0\n",
      "分类器预测结果为： 0,    真是结果为： 0\n",
      "分类器预测结果为： 0,    真是结果为： 0\n",
      "分类器预测结果为： 0,    真是结果为： 0\n",
      "分类器预测结果为： 0,    真是结果为： 0\n",
      "分类器预测结果为： 0,    真是结果为： 0\n",
      "分类器预测结果为： 0,    真是结果为： 0\n",
      "分类器预测结果为： 0,    真是结果为： 0\n",
      "分类器预测结果为： 0,    真是结果为： 0\n",
      "分类器预测结果为： 1,    真是结果为： 1\n",
      "分类器预测结果为： 1,    真是结果为： 1\n",
      "分类器预测结果为： 1,    真是结果为： 1\n",
      "分类器预测结果为： 1,    真是结果为： 1\n",
      "分类器预测结果为： 1,    真是结果为： 1\n",
      "分类器预测结果为： 1,    真是结果为： 1\n",
      "分类器预测结果为： 1,    真是结果为： 1\n",
      "分类器预测结果为： 1,    真是结果为： 1\n",
      "分类器预测结果为： 1,    真是结果为： 1\n",
      "分类器预测结果为： 1,    真是结果为： 1\n",
      "分类器预测结果为： 1,    真是结果为： 1\n",
      "分类器预测结果为： 1,    真是结果为： 1\n",
      "分类器预测结果为： 1,    真是结果为： 1\n",
      "分类器预测结果为： 1,    真是结果为： 1\n",
      "分类器预测结果为： 1,    真是结果为： 1\n",
      "分类器预测结果为： 1,    真是结果为： 1\n",
      "分类器预测结果为： 1,    真是结果为： 1\n",
      "分类器预测结果为： 1,    真是结果为： 1\n",
      "分类器预测结果为： 1,    真是结果为： 1\n",
      "分类器预测结果为： 1,    真是结果为： 1\n",
      "分类器预测结果为： 1,    真是结果为： 1\n",
      "分类器预测结果为： 1,    真是结果为： 1\n",
      "分类器预测结果为： 1,    真是结果为： 1\n",
      "分类器预测结果为： 1,    真是结果为： 1\n",
      "分类器预测结果为： 1,    真是结果为： 1\n",
      "分类器预测结果为： 1,    真是结果为： 1\n",
      "分类器预测结果为： 1,    真是结果为： 1\n",
      "分类器预测结果为： 1,    真是结果为： 1\n",
      "分类器预测结果为： 1,    真是结果为： 1\n",
      "分类器预测结果为： 1,    真是结果为： 1\n",
      "分类器预测结果为： 1,    真是结果为： 1\n",
      "分类器预测结果为： 1,    真是结果为： 1\n",
      "分类器预测结果为： 1,    真是结果为： 1\n",
      "分类器预测结果为： 1,    真是结果为： 1\n",
      "分类器预测结果为： 1,    真是结果为： 1\n",
      "分类器预测结果为： 1,    真是结果为： 1\n",
      "分类器预测结果为： 1,    真是结果为： 1\n",
      "分类器预测结果为： 1,    真是结果为： 1\n",
      "分类器预测结果为： 1,    真是结果为： 1\n",
      "分类器预测结果为： 1,    真是结果为： 1\n",
      "分类器预测结果为： 1,    真是结果为： 1\n",
      "分类器预测结果为： 4,    真是结果为： 1\n",
      "分类器预测结果为： 1,    真是结果为： 1\n",
      "分类器预测结果为： 1,    真是结果为： 1\n",
      "分类器预测结果为： 1,    真是结果为： 1\n",
      "分类器预测结果为： 1,    真是结果为： 1\n",
      "分类器预测结果为： 1,    真是结果为： 1\n",
      "分类器预测结果为： 1,    真是结果为： 1\n",
      "分类器预测结果为： 2,    真是结果为： 2\n",
      "分类器预测结果为： 2,    真是结果为： 2\n",
      "分类器预测结果为： 2,    真是结果为： 2\n",
      "分类器预测结果为： 2,    真是结果为： 2\n",
      "分类器预测结果为： 2,    真是结果为： 2\n",
      "分类器预测结果为： 2,    真是结果为： 2\n",
      "分类器预测结果为： 2,    真是结果为： 2\n",
      "分类器预测结果为： 2,    真是结果为： 2\n",
      "分类器预测结果为： 2,    真是结果为： 2\n",
      "分类器预测结果为： 2,    真是结果为： 2\n",
      "分类器预测结果为： 2,    真是结果为： 2\n",
      "分类器预测结果为： 2,    真是结果为： 2\n",
      "分类器预测结果为： 2,    真是结果为： 2\n",
      "分类器预测结果为： 2,    真是结果为： 2\n",
      "分类器预测结果为： 2,    真是结果为： 2\n",
      "分类器预测结果为： 2,    真是结果为： 2\n",
      "分类器预测结果为： 2,    真是结果为： 2\n",
      "分类器预测结果为： 1,    真是结果为： 2\n",
      "分类器预测结果为： 2,    真是结果为： 2\n",
      "分类器预测结果为： 2,    真是结果为： 2\n",
      "分类器预测结果为： 2,    真是结果为： 2\n",
      "分类器预测结果为： 2,    真是结果为： 2\n",
      "分类器预测结果为： 2,    真是结果为： 2\n",
      "分类器预测结果为： 2,    真是结果为： 2\n",
      "分类器预测结果为： 2,    真是结果为： 2\n",
      "分类器预测结果为： 2,    真是结果为： 2\n",
      "分类器预测结果为： 2,    真是结果为： 2\n",
      "分类器预测结果为： 2,    真是结果为： 2\n",
      "分类器预测结果为： 2,    真是结果为： 2\n",
      "分类器预测结果为： 2,    真是结果为： 2\n",
      "分类器预测结果为： 2,    真是结果为： 2\n",
      "分类器预测结果为： 2,    真是结果为： 2\n",
      "分类器预测结果为： 2,    真是结果为： 2\n",
      "分类器预测结果为： 2,    真是结果为： 2\n",
      "分类器预测结果为： 2,    真是结果为： 2\n",
      "分类器预测结果为： 2,    真是结果为： 2\n",
      "分类器预测结果为： 2,    真是结果为： 2\n",
      "分类器预测结果为： 2,    真是结果为： 2\n",
      "分类器预测结果为： 2,    真是结果为： 2\n",
      "分类器预测结果为： 2,    真是结果为： 2\n",
      "分类器预测结果为： 2,    真是结果为： 2\n",
      "分类器预测结果为： 2,    真是结果为： 2\n",
      "分类器预测结果为： 2,    真是结果为： 2\n",
      "分类器预测结果为： 2,    真是结果为： 2\n",
      "分类器预测结果为： 2,    真是结果为： 2\n",
      "分类器预测结果为： 3,    真是结果为： 3\n",
      "分类器预测结果为： 3,    真是结果为： 3\n",
      "分类器预测结果为： 3,    真是结果为： 3\n",
      "分类器预测结果为： 3,    真是结果为： 3\n",
      "分类器预测结果为： 3,    真是结果为： 3\n",
      "分类器预测结果为： 3,    真是结果为： 3\n",
      "分类器预测结果为： 3,    真是结果为： 3\n",
      "分类器预测结果为： 3,    真是结果为： 3\n",
      "分类器预测结果为： 3,    真是结果为： 3\n",
      "分类器预测结果为： 3,    真是结果为： 3\n",
      "分类器预测结果为： 3,    真是结果为： 3\n",
      "分类器预测结果为： 3,    真是结果为： 3\n",
      "分类器预测结果为： 3,    真是结果为： 3\n",
      "分类器预测结果为： 3,    真是结果为： 3\n",
      "分类器预测结果为： 3,    真是结果为： 3\n",
      "分类器预测结果为： 3,    真是结果为： 3\n",
      "分类器预测结果为： 3,    真是结果为： 3\n",
      "分类器预测结果为： 3,    真是结果为： 3\n",
      "分类器预测结果为： 3,    真是结果为： 3\n",
      "分类器预测结果为： 3,    真是结果为： 3\n",
      "分类器预测结果为： 3,    真是结果为： 3\n",
      "分类器预测结果为： 3,    真是结果为： 3\n",
      "分类器预测结果为： 3,    真是结果为： 3\n",
      "分类器预测结果为： 3,    真是结果为： 3\n",
      "分类器预测结果为： 3,    真是结果为： 3\n",
      "分类器预测结果为： 3,    真是结果为： 3\n",
      "分类器预测结果为： 3,    真是结果为： 3\n",
      "分类器预测结果为： 3,    真是结果为： 3\n",
      "分类器预测结果为： 3,    真是结果为： 3\n",
      "分类器预测结果为： 3,    真是结果为： 3\n",
      "分类器预测结果为： 3,    真是结果为： 3\n",
      "分类器预测结果为： 3,    真是结果为： 3\n",
      "分类器预测结果为： 3,    真是结果为： 3\n",
      "分类器预测结果为： 3,    真是结果为： 3\n",
      "分类器预测结果为： 3,    真是结果为： 3\n",
      "分类器预测结果为： 3,    真是结果为： 3\n",
      "分类器预测结果为： 3,    真是结果为： 3\n",
      "分类器预测结果为： 3,    真是结果为： 3\n",
      "分类器预测结果为： 3,    真是结果为： 3\n",
      "分类器预测结果为： 3,    真是结果为： 3\n",
      "分类器预测结果为： 3,    真是结果为： 3\n",
      "分类器预测结果为： 3,    真是结果为： 3\n",
      "分类器预测结果为： 3,    真是结果为： 3\n",
      "分类器预测结果为： 3,    真是结果为： 3\n",
      "分类器预测结果为： 3,    真是结果为： 3\n",
      "分类器预测结果为： 3,    真是结果为： 3\n",
      "分类器预测结果为： 3,    真是结果为： 3\n",
      "分类器预测结果为： 3,    真是结果为： 3\n",
      "分类器预测结果为： 3,    真是结果为： 3\n",
      "分类器预测结果为： 4,    真是结果为： 4\n",
      "分类器预测结果为： 4,    真是结果为： 4\n",
      "分类器预测结果为： 4,    真是结果为： 4\n",
      "分类器预测结果为： 4,    真是结果为： 4\n",
      "分类器预测结果为： 4,    真是结果为： 4\n",
      "分类器预测结果为： 4,    真是结果为： 4\n",
      "分类器预测结果为： 4,    真是结果为： 4\n",
      "分类器预测结果为： 4,    真是结果为： 4\n",
      "分类器预测结果为： 4,    真是结果为： 4\n",
      "分类器预测结果为： 4,    真是结果为： 4\n",
      "分类器预测结果为： 4,    真是结果为： 4\n",
      "分类器预测结果为： 4,    真是结果为： 4\n",
      "分类器预测结果为： 4,    真是结果为： 4\n",
      "分类器预测结果为： 4,    真是结果为： 4\n",
      "分类器预测结果为： 4,    真是结果为： 4\n",
      "分类器预测结果为： 4,    真是结果为： 4\n",
      "分类器预测结果为： 7,    真是结果为： 4\n",
      "分类器预测结果为： 4,    真是结果为： 4\n",
      "分类器预测结果为： 4,    真是结果为： 4\n",
      "分类器预测结果为： 4,    真是结果为： 4\n",
      "分类器预测结果为： 4,    真是结果为： 4\n",
      "分类器预测结果为： 4,    真是结果为： 4\n",
      "分类器预测结果为： 4,    真是结果为： 4\n",
      "分类器预测结果为： 4,    真是结果为： 4\n",
      "分类器预测结果为： 4,    真是结果为： 4\n",
      "分类器预测结果为： 4,    真是结果为： 4\n",
      "分类器预测结果为： 4,    真是结果为： 4\n",
      "分类器预测结果为： 4,    真是结果为： 4\n",
      "分类器预测结果为： 4,    真是结果为： 4\n",
      "分类器预测结果为： 4,    真是结果为： 4\n",
      "分类器预测结果为： 4,    真是结果为： 4\n",
      "分类器预测结果为： 4,    真是结果为： 4\n",
      "分类器预测结果为： 4,    真是结果为： 4\n",
      "分类器预测结果为： 4,    真是结果为： 4\n",
      "分类器预测结果为： 4,    真是结果为： 4\n",
      "分类器预测结果为： 4,    真是结果为： 4\n",
      "分类器预测结果为： 5,    真是结果为： 5\n",
      "分类器预测结果为： 5,    真是结果为： 5\n",
      "分类器预测结果为： 5,    真是结果为： 5\n",
      "分类器预测结果为： 5,    真是结果为： 5\n",
      "分类器预测结果为： 5,    真是结果为： 5\n",
      "分类器预测结果为： 5,    真是结果为： 5\n",
      "分类器预测结果为： 5,    真是结果为： 5\n",
      "分类器预测结果为： 5,    真是结果为： 5\n",
      "分类器预测结果为： 5,    真是结果为： 5\n",
      "分类器预测结果为： 5,    真是结果为： 5\n",
      "分类器预测结果为： 5,    真是结果为： 5\n",
      "分类器预测结果为： 5,    真是结果为： 5\n",
      "分类器预测结果为： 5,    真是结果为： 5\n",
      "分类器预测结果为： 5,    真是结果为： 5\n",
      "分类器预测结果为： 5,    真是结果为： 5\n",
      "分类器预测结果为： 5,    真是结果为： 5\n",
      "分类器预测结果为： 5,    真是结果为： 5\n",
      "分类器预测结果为： 5,    真是结果为： 5\n",
      "分类器预测结果为： 5,    真是结果为： 5\n",
      "分类器预测结果为： 5,    真是结果为： 5\n",
      "分类器预测结果为： 5,    真是结果为： 5\n",
      "分类器预测结果为： 9,    真是结果为： 5\n",
      "分类器预测结果为： 9,    真是结果为： 5\n",
      "分类器预测结果为： 3,    真是结果为： 5\n",
      "分类器预测结果为： 5,    真是结果为： 5\n",
      "分类器预测结果为： 5,    真是结果为： 5\n",
      "分类器预测结果为： 5,    真是结果为： 5\n",
      "分类器预测结果为： 5,    真是结果为： 5\n",
      "分类器预测结果为： 5,    真是结果为： 5\n",
      "分类器预测结果为： 5,    真是结果为： 5\n",
      "分类器预测结果为： 5,    真是结果为： 5\n",
      "分类器预测结果为： 5,    真是结果为： 5\n",
      "分类器预测结果为： 5,    真是结果为： 5\n",
      "分类器预测结果为： 5,    真是结果为： 5\n",
      "分类器预测结果为： 5,    真是结果为： 5\n",
      "分类器预测结果为： 5,    真是结果为： 5\n",
      "分类器预测结果为： 5,    真是结果为： 5\n",
      "分类器预测结果为： 6,    真是结果为： 6\n",
      "分类器预测结果为： 6,    真是结果为： 6\n",
      "分类器预测结果为： 6,    真是结果为： 6\n",
      "分类器预测结果为： 6,    真是结果为： 6\n",
      "分类器预测结果为： 6,    真是结果为： 6\n",
      "分类器预测结果为： 6,    真是结果为： 6\n",
      "分类器预测结果为： 6,    真是结果为： 6\n",
      "分类器预测结果为： 6,    真是结果为： 6\n",
      "分类器预测结果为： 6,    真是结果为： 6\n",
      "分类器预测结果为： 6,    真是结果为： 6\n",
      "分类器预测结果为： 6,    真是结果为： 6\n",
      "分类器预测结果为： 6,    真是结果为： 6\n",
      "分类器预测结果为： 6,    真是结果为： 6\n",
      "分类器预测结果为： 6,    真是结果为： 6\n",
      "分类器预测结果为： 6,    真是结果为： 6\n",
      "分类器预测结果为： 6,    真是结果为： 6\n",
      "分类器预测结果为： 6,    真是结果为： 6\n",
      "分类器预测结果为： 6,    真是结果为： 6\n",
      "分类器预测结果为： 6,    真是结果为： 6\n",
      "分类器预测结果为： 6,    真是结果为： 6\n",
      "分类器预测结果为： 6,    真是结果为： 6\n",
      "分类器预测结果为： 1,    真是结果为： 6\n",
      "分类器预测结果为： 6,    真是结果为： 6\n",
      "分类器预测结果为： 6,    真是结果为： 6\n",
      "分类器预测结果为： 6,    真是结果为： 6\n",
      "分类器预测结果为： 1,    真是结果为： 6\n",
      "分类器预测结果为： 6,    真是结果为： 6\n",
      "分类器预测结果为： 6,    真是结果为： 6\n",
      "分类器预测结果为： 6,    真是结果为： 6\n",
      "分类器预测结果为： 6,    真是结果为： 6\n",
      "分类器预测结果为： 6,    真是结果为： 6\n",
      "分类器预测结果为： 6,    真是结果为： 6\n",
      "分类器预测结果为： 6,    真是结果为： 6\n",
      "分类器预测结果为： 6,    真是结果为： 6\n",
      "分类器预测结果为： 6,    真是结果为： 6\n",
      "分类器预测结果为： 6,    真是结果为： 6\n",
      "分类器预测结果为： 6,    真是结果为： 6\n",
      "分类器预测结果为： 6,    真是结果为： 6\n",
      "分类器预测结果为： 6,    真是结果为： 6\n",
      "分类器预测结果为： 6,    真是结果为： 6\n",
      "分类器预测结果为： 6,    真是结果为： 6\n",
      "分类器预测结果为： 6,    真是结果为： 6\n",
      "分类器预测结果为： 6,    真是结果为： 6\n",
      "分类器预测结果为： 6,    真是结果为： 6\n",
      "分类器预测结果为： 6,    真是结果为： 6\n",
      "分类器预测结果为： 7,    真是结果为： 7\n",
      "分类器预测结果为： 7,    真是结果为： 7\n",
      "分类器预测结果为： 7,    真是结果为： 7\n",
      "分类器预测结果为： 7,    真是结果为： 7\n",
      "分类器预测结果为： 7,    真是结果为： 7\n",
      "分类器预测结果为： 7,    真是结果为： 7\n",
      "分类器预测结果为： 7,    真是结果为： 7\n",
      "分类器预测结果为： 7,    真是结果为： 7\n",
      "分类器预测结果为： 7,    真是结果为： 7\n",
      "分类器预测结果为： 7,    真是结果为： 7\n",
      "分类器预测结果为： 7,    真是结果为： 7\n",
      "分类器预测结果为： 7,    真是结果为： 7\n",
      "分类器预测结果为： 7,    真是结果为： 7\n",
      "分类器预测结果为： 7,    真是结果为： 7\n",
      "分类器预测结果为： 7,    真是结果为： 7\n",
      "分类器预测结果为： 7,    真是结果为： 7\n",
      "分类器预测结果为： 7,    真是结果为： 7\n",
      "分类器预测结果为： 7,    真是结果为： 7\n",
      "分类器预测结果为： 7,    真是结果为： 7\n",
      "分类器预测结果为： 7,    真是结果为： 7\n",
      "分类器预测结果为： 7,    真是结果为： 7\n",
      "分类器预测结果为： 7,    真是结果为： 7\n",
      "分类器预测结果为： 7,    真是结果为： 7\n",
      "分类器预测结果为： 7,    真是结果为： 7\n",
      "分类器预测结果为： 7,    真是结果为： 7\n",
      "分类器预测结果为： 7,    真是结果为： 7\n",
      "分类器预测结果为： 7,    真是结果为： 7\n",
      "分类器预测结果为： 7,    真是结果为： 7\n",
      "分类器预测结果为： 7,    真是结果为： 7\n",
      "分类器预测结果为： 7,    真是结果为： 7\n",
      "分类器预测结果为： 7,    真是结果为： 7\n",
      "分类器预测结果为： 7,    真是结果为： 7\n",
      "分类器预测结果为： 7,    真是结果为： 7\n",
      "分类器预测结果为： 7,    真是结果为： 7\n",
      "分类器预测结果为： 7,    真是结果为： 7\n",
      "分类器预测结果为： 7,    真是结果为： 7\n",
      "分类器预测结果为： 7,    真是结果为： 7\n",
      "分类器预测结果为： 7,    真是结果为： 7\n",
      "分类器预测结果为： 7,    真是结果为： 7\n",
      "分类器预测结果为： 7,    真是结果为： 7\n",
      "分类器预测结果为： 7,    真是结果为： 7\n",
      "分类器预测结果为： 7,    真是结果为： 7\n",
      "分类器预测结果为： 7,    真是结果为： 7\n",
      "分类器预测结果为： 7,    真是结果为： 7\n",
      "分类器预测结果为： 7,    真是结果为： 7\n",
      "分类器预测结果为： 7,    真是结果为： 7\n",
      "分类器预测结果为： 7,    真是结果为： 7\n",
      "分类器预测结果为： 7,    真是结果为： 7\n",
      "分类器预测结果为： 7,    真是结果为： 7\n",
      "分类器预测结果为： 7,    真是结果为： 7\n",
      "分类器预测结果为： 7,    真是结果为： 7\n",
      "分类器预测结果为： 8,    真是结果为： 8\n",
      "分类器预测结果为： 8,    真是结果为： 8\n",
      "分类器预测结果为： 3,    真是结果为： 8\n",
      "分类器预测结果为： 8,    真是结果为： 8\n",
      "分类器预测结果为： 8,    真是结果为： 8\n",
      "分类器预测结果为： 8,    真是结果为： 8\n",
      "分类器预测结果为： 8,    真是结果为： 8\n",
      "分类器预测结果为： 8,    真是结果为： 8\n",
      "分类器预测结果为： 8,    真是结果为： 8\n",
      "分类器预测结果为： 5,    真是结果为： 8\n",
      "分类器预测结果为： 8,    真是结果为： 8\n",
      "分类器预测结果为： 8,    真是结果为： 8\n",
      "分类器预测结果为： 8,    真是结果为： 8\n",
      "分类器预测结果为： 8,    真是结果为： 8\n",
      "分类器预测结果为： 8,    真是结果为： 8\n",
      "分类器预测结果为： 1,    真是结果为： 8\n",
      "分类器预测结果为： 1,    真是结果为： 8\n",
      "分类器预测结果为： 8,    真是结果为： 8\n",
      "分类器预测结果为： 8,    真是结果为： 8\n",
      "分类器预测结果为： 8,    真是结果为： 8\n",
      "分类器预测结果为： 8,    真是结果为： 8\n",
      "分类器预测结果为： 8,    真是结果为： 8\n",
      "分类器预测结果为： 8,    真是结果为： 8\n",
      "分类器预测结果为： 9,    真是结果为： 8\n",
      "分类器预测结果为： 8,    真是结果为： 8\n",
      "分类器预测结果为： 8,    真是结果为： 8\n",
      "分类器预测结果为： 8,    真是结果为： 8\n",
      "分类器预测结果为： 8,    真是结果为： 8\n",
      "分类器预测结果为： 8,    真是结果为： 8\n",
      "分类器预测结果为： 8,    真是结果为： 8\n",
      "分类器预测结果为： 9,    真是结果为： 9\n",
      "分类器预测结果为： 9,    真是结果为： 9\n",
      "分类器预测结果为： 9,    真是结果为： 9\n",
      "分类器预测结果为： 9,    真是结果为： 9\n",
      "分类器预测结果为： 9,    真是结果为： 9\n",
      "分类器预测结果为： 9,    真是结果为： 9\n",
      "分类器预测结果为： 9,    真是结果为： 9\n",
      "分类器预测结果为： 9,    真是结果为： 9\n",
      "分类器预测结果为： 9,    真是结果为： 9\n",
      "分类器预测结果为： 9,    真是结果为： 9\n",
      "分类器预测结果为： 9,    真是结果为： 9\n",
      "分类器预测结果为： 9,    真是结果为： 9\n",
      "分类器预测结果为： 9,    真是结果为： 9\n",
      "分类器预测结果为： 9,    真是结果为： 9\n",
      "分类器预测结果为： 9,    真是结果为： 9\n",
      "分类器预测结果为： 9,    真是结果为： 9\n",
      "分类器预测结果为： 9,    真是结果为： 9\n",
      "分类器预测结果为： 9,    真是结果为： 9\n",
      "分类器预测结果为： 9,    真是结果为： 9\n",
      "分类器预测结果为： 9,    真是结果为： 9\n",
      "分类器预测结果为： 9,    真是结果为： 9\n",
      "分类器预测结果为： 9,    真是结果为： 9\n",
      "分类器预测结果为： 9,    真是结果为： 9\n",
      "分类器预测结果为： 9,    真是结果为： 9\n",
      "分类器预测结果为： 9,    真是结果为： 9\n",
      "分类器预测结果为： 9,    真是结果为： 9\n",
      "分类器预测结果为： 9,    真是结果为： 9\n",
      "分类器预测结果为： 9,    真是结果为： 9\n",
      "分类器预测结果为： 9,    真是结果为： 9\n",
      "分类器预测结果为： 9,    真是结果为： 9\n",
      "分类器预测结果为： 9,    真是结果为： 9\n",
      "分类器预测结果为： 9,    真是结果为： 9\n",
      "分类器预测结果为： 9,    真是结果为： 9\n",
      "分类器预测结果为： 9,    真是结果为： 9\n",
      "分类器预测结果为： 9,    真是结果为： 9\n",
      "分类器预测结果为： 9,    真是结果为： 9\n",
      "分类器预测结果为： 9,    真是结果为： 9\n",
      "分类器预测结果为： 9,    真是结果为： 9\n",
      "分类器预测结果为： 9,    真是结果为： 9\n",
      "分类器预测结果为： 3,    真是结果为： 9\n",
      "分类器预测结果为： 9,    真是结果为： 9\n",
      "分类器预测结果为： 9,    真是结果为： 9\n",
      "分类器预测结果为： 7,    真是结果为： 9\n",
      "分类器预测结果为： 9,    真是结果为： 9\n",
      "分类器预测结果为： 9,    真是结果为： 9\n",
      "分类器预测结果为： 9,    真是结果为： 9\n",
      "分类器预测结果为： 9,    真是结果为： 9\n",
      "分类器预测结果为： 9,    真是结果为： 9\n",
      "分类器预测结果为： 9,    真是结果为： 9\n",
      "分类器预测结果为： 9,    真是结果为： 9\n",
      "分类器预测结果为： 9,    真是结果为： 9\n",
      "分类器预测结果为： 9,    真是结果为： 9\n",
      "分类器预测结果为： 9,    真是结果为： 9\n",
      "分类器预测结果为： 9,    真是结果为： 9\n",
      "\n",
      " 测试样本个数为： 434\n",
      " 预测错位个数为： 16\n",
      " 预测错误率为： 3.69%\n",
      " 预测正确率为： 96.31%\n"
     ]
    }
   ],
   "source": [
    "handwritingClassTest()"
   ]
  },
  {
   "cell_type": "code",
   "execution_count": 21,
   "metadata": {
    "collapsed": true
   },
   "outputs": [],
   "source": [
    "def load_trainingData():\n",
    "    hwlabels=[]\n",
    "    traingingFileList=listdir('./data/trainingDigits')\n",
    "    m=len(trainingFileList)\n",
    "    trainingMat=zeros((m,1024))\n",
    "    for i in range(m):\n",
    "        filenamestr=trainingFileList[i]\n",
    "        filestr=filenamestr.split('.')[0]\n",
    "        classnumstr=int(filestr.split('_')[0])\n",
    "        hwlabels.append(classnumstr)\n",
    "        trainingMat[i,:]=img2vect('data/trainingDigits/%s'%(filenamestr))\n",
    "    return trainingMat,hwlabels"
   ]
  },
  {
   "cell_type": "code",
   "execution_count": 22,
   "metadata": {
    "collapsed": false
   },
   "outputs": [
    {
     "data": {
      "text/plain": [
       "(1500, 1500)"
      ]
     },
     "execution_count": 22,
     "metadata": {},
     "output_type": "execute_result"
    }
   ],
   "source": [
    "trainingMat,hwlabels=load_trainingData()\n",
    "len(trainingMat),len(hwlabels)"
   ]
  },
  {
   "cell_type": "code",
   "execution_count": 25,
   "metadata": {
    "collapsed": true
   },
   "outputs": [],
   "source": [
    "def load_testData():\n",
    "    testFileList=listdir('./data/testDigits')\n",
    "    goldLabels=[]\n",
    "    mTest=len(testFileList)\n",
    "    testMat=zeros((mTest,1024))\n",
    "    for i in range(mTest):\n",
    "        fileNameStr=testFileList[i]\n",
    "        fileStr=fileNameStr.split('.')[0]\n",
    "        classNumStr=int(fileStr.split('_')[0])\n",
    "        goldLabels.append(classNumStr)\n",
    "        testMat[i,:]=img2vect('./data/testDigits/%s'%fileNameStr)\n",
    "    return testMat,goldLabels"
   ]
  },
  {
   "cell_type": "code",
   "execution_count": 26,
   "metadata": {
    "collapsed": false
   },
   "outputs": [
    {
     "data": {
      "text/plain": [
       "(434, 434)"
      ]
     },
     "execution_count": 26,
     "metadata": {},
     "output_type": "execute_result"
    }
   ],
   "source": [
    "testMat,goldLabels=load_testData()\n",
    "len(testMat),len(goldLabels)"
   ]
  },
  {
   "cell_type": "code",
   "execution_count": 42,
   "metadata": {
    "collapsed": false
   },
   "outputs": [],
   "source": [
    "from sklearn.neighbors import KNeighborsClassifier\n",
    "from sklearn.svm import SVC\n",
    "from sklearn.tree import DecisionTreeClassifier\n",
    "\n",
    "from sklearn.naive_bayes import GaussianNB\n",
    "from sklearn.naive_bayes import MultinomialNB\n",
    "from sklearn.naive_bayes import BernoulliNB\n",
    "\n",
    "def handwritingClassTest():\n",
    "    trainingMat,hwlabels=load_trainingData()\n",
    "    testMat,goldlabels=load_testData()\n",
    "    mTest=len(testMat)\n",
    "    \n",
    "    ensemble=['KNN','SVC','DT','GaussianNB','MultinomialNB','BernoulliNB']\n",
    "    for a in ensemble:\n",
    "        classifierResult=[]\n",
    "        print a+':'\n",
    "        if a=='KNN':clf=KNeighborsClassifier(algorithm='kd_tree',n_neighbors=3)\n",
    "        if a=='SVC':clf=SVC(C=1.0,kernel='linear')\n",
    "        if a=='DT':clf=DecisionTreeClassifier(criterion='entropy',random_state=0)\n",
    "        if a=='GaussianNB':clf=GaussianNB()\n",
    "        if a=='MultinomialNB':clf=MultinomialNB()\n",
    "        if a=='BernoulliNB':clf=BernoulliNB()\n",
    "            \n",
    "        clf.fit(trainingMat,hwlabels)\n",
    "        classifierResult=clf.predict(testMat)\n",
    "        \n",
    "        errorCount=0.0\n",
    "        \n",
    "        for i in range(mTest):\n",
    "            if (classifierResult[i]!=goldlabels[i]):\n",
    "                errorCount+=1.0;\n",
    "        \n",
    "        print '\\t 测试样本个数为： %d '%(mTest)\n",
    "        print '\\t 预测错位个数为： %d '%(errorCount)\n",
    "        print '\\t 预测错误率为： %2.2f%%'%(errorCount/float(mTest)*100.0)\n",
    "        print '\\t 预测准确率为： %2.2f%%'%((1-errorCount/float(mTest))*100.0)"
   ]
  },
  {
   "cell_type": "code",
   "execution_count": 43,
   "metadata": {
    "collapsed": false
   },
   "outputs": [
    {
     "name": "stdout",
     "output_type": "stream",
     "text": [
      "KNN:\n",
      "\t 测试样本个数为： 434 \n",
      "\t 预测错位个数为： 19 \n",
      "\t 预测错误率为： 4.38%\n",
      "\t 预测准确率为： 95.62%\n",
      "SVC:\n",
      "\t 测试样本个数为： 434 \n",
      "\t 预测错位个数为： 18 \n",
      "\t 预测错误率为： 4.15%\n",
      "\t 预测准确率为： 95.85%\n",
      "DT:\n",
      "\t 测试样本个数为： 434 \n",
      "\t 预测错位个数为： 76 \n",
      "\t 预测错误率为： 17.51%\n",
      "\t 预测准确率为： 82.49%\n",
      "GaussianNB:\n",
      "\t 测试样本个数为： 434 \n",
      "\t 预测错位个数为： 120 \n",
      "\t 预测错误率为： 27.65%\n",
      "\t 预测准确率为： 72.35%\n",
      "MultinomialNB:\n",
      "\t 测试样本个数为： 434 \n",
      "\t 预测错位个数为： 34 \n",
      "\t 预测错误率为： 7.83%\n",
      "\t 预测准确率为： 92.17%\n",
      "BernoulliNB:\n",
      "\t 测试样本个数为： 434 \n",
      "\t 预测错位个数为： 29 \n",
      "\t 预测错误率为： 6.68%\n",
      "\t 预测准确率为： 93.32%\n"
     ]
    }
   ],
   "source": [
    "handwritingClassTest()"
   ]
  },
  {
   "cell_type": "code",
   "execution_count": null,
   "metadata": {
    "collapsed": true
   },
   "outputs": [],
   "source": []
  }
 ],
 "metadata": {
  "kernelspec": {
   "display_name": "Python 2",
   "language": "python",
   "name": "python2"
  },
  "language_info": {
   "codemirror_mode": {
    "name": "ipython",
    "version": 2
   },
   "file_extension": ".py",
   "mimetype": "text/x-python",
   "name": "python",
   "nbconvert_exporter": "python",
   "pygments_lexer": "ipython2",
   "version": "2.7.13"
  }
 },
 "nbformat": 4,
 "nbformat_minor": 2
}
