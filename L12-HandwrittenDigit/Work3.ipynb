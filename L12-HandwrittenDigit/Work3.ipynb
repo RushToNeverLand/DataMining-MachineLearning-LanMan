{
 "cells": [
  {
   "cell_type": "code",
   "execution_count": 1,
   "metadata": {
    "collapsed": false
   },
   "outputs": [],
   "source": [
    "from __future__ import division\n",
    "%matplotlib inline\n",
    "import matplotlib.pyplot as plt\n",
    "import pandas as pd\n",
    "import numpy as np\n",
    "import operator\n",
    "from os import listdir\n",
    "from numpy import *\n",
    "\n",
    "from sklearn.neighbors import KNeighborsClassifier\n",
    "from sklearn.svm import SVC\n",
    "from sklearn.tree import DecisionTreeClassifier\n",
    "from sklearn.naive_bayes import GaussianNB\n",
    "from sklearn.naive_bayes import MultinomialNB\n",
    "from sklearn.naive_bayes import BernoulliNB"
   ]
  },
  {
   "cell_type": "code",
   "execution_count": 2,
   "metadata": {
    "collapsed": true
   },
   "outputs": [],
   "source": [
    "def load_trainingData():\n",
    "    hwlabels=[]\n",
    "    trainingFileList=listdir('./data/trainingDigits')\n",
    "    m=len(trainingFileList)\n",
    "    trainingMat=zeros((m,1024))\n",
    "    for i in range(m):\n",
    "        filenamestr=trainingFileList[i]\n",
    "        filestr=filenamestr.split('.')[0]\n",
    "        classnumstr=int(filestr.split('_')[0])\n",
    "        hwlabels.append(classnumstr)\n",
    "        trainingMat[i,:]=img2vect('data/trainingDigits/%s'%(filenamestr))\n",
    "    return trainingMat,hwlabels\n",
    "\n",
    "def img2vect(filename):\n",
    "    returnVect=zeros((1,1024))\n",
    "    fr=open(filename)\n",
    "    \n",
    "    for i in range(32):\n",
    "        lineStr=fr.readline()\n",
    "        for j in range(32):\n",
    "            returnVect[0,32*i+j]=int(lineStr[j])\n",
    "            \n",
    "    return returnVect"
   ]
  },
  {
   "cell_type": "code",
   "execution_count": 3,
   "metadata": {
    "collapsed": true
   },
   "outputs": [],
   "source": [
    "# trainingMat,hwlabels=load_trainingData()\n",
    "# len(trainingMat),len(hwlabels)"
   ]
  },
  {
   "cell_type": "code",
   "execution_count": 4,
   "metadata": {
    "collapsed": true
   },
   "outputs": [],
   "source": [
    "def load_testData():\n",
    "    testFileList=listdir('./data/testDigits')\n",
    "    goldLabels=[]\n",
    "    mTest=len(testFileList)\n",
    "    testMat=zeros((mTest,1024))\n",
    "    for i in range(mTest):\n",
    "        fileNameStr=testFileList[i]\n",
    "        fileStr=fileNameStr.split('.')[0]\n",
    "        classNumStr=int(fileStr.split('_')[0])\n",
    "        goldLabels.append(classNumStr)\n",
    "        testMat[i,:]=img2vect('./data/testDigits/%s'%fileNameStr)\n",
    "    return testMat,goldLabels"
   ]
  },
  {
   "cell_type": "code",
   "execution_count": 5,
   "metadata": {
    "collapsed": true
   },
   "outputs": [],
   "source": [
    "# testMat,goldLabels=load_testData()\n",
    "# len(testMat),len(goldLabels)"
   ]
  },
  {
   "cell_type": "code",
   "execution_count": 5,
   "metadata": {
    "collapsed": true
   },
   "outputs": [],
   "source": [
    "def handwritingClassTest():\n",
    "    trainingMat,hwlabels=load_trainingData()\n",
    "    testMat,goldlabels=load_testData()\n",
    "    mTest=len(testMat)\n",
    "    #各种模型的运用\n",
    "    ensemble=['KNN','SVC','DT','GaussianNB','MultinomialNB','BernoulliNB']\n",
    "    for a in ensemble:\n",
    "        classifierResult=[]\n",
    "        print a+':'\n",
    "        if a=='KNN':clf=KNeighborsClassifier(algorithm='kd_tree',n_neighbors=3)\n",
    "        if a=='SVC':clf=SVC(C=1.0,kernel='linear')\n",
    "        if a=='DT':clf=DecisionTreeClassifier(criterion='entropy',random_state=0)\n",
    "        if a=='GaussianNB':clf=GaussianNB()\n",
    "        if a=='MultinomialNB':clf=MultinomialNB()\n",
    "        if a=='BernoulliNB':clf=BernoulliNB()\n",
    "            \n",
    "        clf.fit(trainingMat,hwlabels)\n",
    "        classifierResult=clf.predict(testMat)\n",
    "        \n",
    "        errorCount=0.0\n",
    "        \n",
    "        for i in range(mTest):\n",
    "            if (classifierResult[i]!=goldlabels[i]):\n",
    "                errorCount+=1.0;\n",
    "        \n",
    "        print '\\t 测试样本个数为： %d '%(mTest)\n",
    "        print '\\t 预测错位个数为： %d '%(errorCount)\n",
    "        print '\\t 预测错误率为： %2.2f%%'%(errorCount/float(mTest)*100.0)\n",
    "        print '\\t 预测准确率为： %2.2f%%'%((1-errorCount/float(mTest))*100.0)"
   ]
  },
  {
   "cell_type": "code",
   "execution_count": 6,
   "metadata": {
    "collapsed": false
   },
   "outputs": [
    {
     "name": "stdout",
     "output_type": "stream",
     "text": [
      "KNN:\n",
      "\t 测试样本个数为： 434 \n",
      "\t 预测错位个数为： 19 \n",
      "\t 预测错误率为： 4.38%\n",
      "\t 预测准确率为： 95.62%\n",
      "SVC:\n",
      "\t 测试样本个数为： 434 \n",
      "\t 预测错位个数为： 18 \n",
      "\t 预测错误率为： 4.15%\n",
      "\t 预测准确率为： 95.85%\n",
      "DT:\n",
      "\t 测试样本个数为： 434 \n",
      "\t 预测错位个数为： 76 \n",
      "\t 预测错误率为： 17.51%\n",
      "\t 预测准确率为： 82.49%\n",
      "GaussianNB:\n",
      "\t 测试样本个数为： 434 \n",
      "\t 预测错位个数为： 120 \n",
      "\t 预测错误率为： 27.65%\n",
      "\t 预测准确率为： 72.35%\n",
      "MultinomialNB:\n",
      "\t 测试样本个数为： 434 \n",
      "\t 预测错位个数为： 34 \n",
      "\t 预测错误率为： 7.83%\n",
      "\t 预测准确率为： 92.17%\n",
      "BernoulliNB:\n",
      "\t 测试样本个数为： 434 \n",
      "\t 预测错位个数为： 29 \n",
      "\t 预测错误率为： 6.68%\n",
      "\t 预测准确率为： 93.32%\n"
     ]
    }
   ],
   "source": [
    "handwritingClassTest()"
   ]
  },
  {
   "cell_type": "code",
   "execution_count": 7,
   "metadata": {
    "collapsed": true
   },
   "outputs": [],
   "source": [
    "trainingMat,hwlabels=load_trainingData()\n",
    "testMat,goldlabels=load_testData()\n",
    "knn=KNeighborsClassifier(algorithm='kd_tree',n_neighbors=3)\n",
    "knn.fit(trainingMat,hwlabels)\n",
    "knnresult=knn.predict(testMat)"
   ]
  },
  {
   "cell_type": "code",
   "execution_count": 8,
   "metadata": {
    "collapsed": false
   },
   "outputs": [],
   "source": [
    "ans=[]\n",
    "for i in range(len(knnresult)):\n",
    "    k=knnresult[i]\n",
    "    tmp=[]\n",
    "    tmp.append(k)\n",
    "    anscnt=0\n",
    "    ansnum=0\n",
    "    for i in range(10):\n",
    "        if(tmp.count(i)>=anscnt):\n",
    "            anscnt=tmp.count(i)\n",
    "            ansnum=i\n",
    "    ans.append(ansnum)"
   ]
  },
  {
   "cell_type": "code",
   "execution_count": 9,
   "metadata": {
    "collapsed": false
   },
   "outputs": [
    {
     "name": "stdout",
     "output_type": "stream",
     "text": [
      "434\n"
     ]
    }
   ],
   "source": [
    "# 检查是否有出入\n",
    "for i in range(len(ans)):\n",
    "    if ans[i]!=knnresult[i]:\n",
    "        print \"no\"\n",
    "print len(ans)"
   ]
  },
  {
   "cell_type": "code",
   "execution_count": 10,
   "metadata": {
    "collapsed": true
   },
   "outputs": [],
   "source": [
    "def LoadData():\n",
    "#     hwlabels=[]\n",
    "    # 放入要测试的文件\n",
    "    trainingFileList=listdir('./data/trainingDigits')\n",
    "    m=len(trainingFileList)\n",
    "    trainingMat=zeros((m,1024))\n",
    "    for i in range(m):\n",
    "        filenamestr=trainingFileList[i]\n",
    "        filestr=filenamestr.split('.')[0]\n",
    "        classnumstr=int(filestr.split('_')[0])\n",
    "#         hwlabels.append(classnumstr)\n",
    "        trainingMat[i,:]=img2vect('data/trainingDigits/%s'%(filenamestr))\n",
    "    return trainingMat"
   ]
  },
  {
   "cell_type": "code",
   "execution_count": 11,
   "metadata": {
    "collapsed": true
   },
   "outputs": [],
   "source": [
    "temp=LoadData()"
   ]
  },
  {
   "cell_type": "code",
   "execution_count": 83,
   "metadata": {
    "collapsed": false
   },
   "outputs": [],
   "source": [
    "def EnsembleLearning():\n",
    "    #加载数据\n",
    "    #训练数据\n",
    "    trainingMat,hwlabels=load_trainingData()\n",
    "    #测试数据\n",
    "    testMat,goldlabels=load_testData()\n",
    "    data=LoadData()\n",
    "    #模型选择\n",
    "    knn=KNeighborsClassifier(algorithm='kd_tree',n_neighbors=3)\n",
    "    svc=SVC(C=1.0,kernel='linear')\n",
    "    mnb=MultinomialNB()\n",
    "    bnb=BernoulliNB()\n",
    "    dt=DecisionTreeClassifier(criterion='entropy',random_state=0)\n",
    "    gnb=GaussianNB()\n",
    "    #训练数据\n",
    "    knn.fit(trainingMat,hwlabels)\n",
    "    svc.fit(trainingMat,hwlabels)\n",
    "    mnb.fit(trainingMat,hwlabels)\n",
    "    bnb.fit(trainingMat,hwlabels)\n",
    "    dt.fit(trainingMat,hwlabels)\n",
    "    gnb.fit(trainingMat,hwlabels)\n",
    "    #预测数据\n",
    "    knnresult=knn.predict(testMat)\n",
    "    svcresult=svc.predict(testMat)\n",
    "    mnbresult=mnb.predict(testMat)\n",
    "    bnbresult=bnb.predict(testMat)\n",
    "    dtresult=dt.predict(testMat)\n",
    "    gnbresult=gnb.predict(testMat)\n",
    "    \n",
    "    m=len(knnresult)\n",
    "    ans=[]\n",
    "    for i in range(m):\n",
    "        temp=[]\n",
    "        #模型选择\n",
    "        temp.append(svcresult[i])\n",
    "        temp.append(knnresult[i])\n",
    "        #相对来说较好的\n",
    "#         temp.append(bnbresult[i])\n",
    "        temp.append(mnbresult[i])\n",
    "        #两条较差的\n",
    "#         temp.append(dtresult[i])\n",
    "#         temp.append(gnbresult[i]) #效果最差\n",
    "        ansnum=0\n",
    "        anscnt=0\n",
    "        for j in range(10):\n",
    "            if(temp.count(j)>=anscnt):\n",
    "                anscnt=temp.count(j)\n",
    "                ansnum=j\n",
    "        ans.append(ansnum)\n",
    "\n",
    "    errorCount=0.0\n",
    "    \n",
    "    m=len(ans)\n",
    "#     print len(ans)\n",
    "    for i in range(m):\n",
    "        if (ans[i]!=goldlabels[i]):\n",
    "            errorCount+=1.0;\n",
    "    \n",
    "    print '\\t 测试样本个数为： %d '%(m)\n",
    "    print '\\t 预测错位个数为： %d '%(errorCount)\n",
    "    print '\\t 预测错误率为： %2.2f%%'%(errorCount/float(m)*100.0)\n",
    "    print '\\t 预测准确率为： %2.2f%%'%((1-errorCount/float(m))*100.0)"
   ]
  },
  {
   "cell_type": "code",
   "execution_count": 84,
   "metadata": {
    "collapsed": false
   },
   "outputs": [
    {
     "name": "stdout",
     "output_type": "stream",
     "text": [
      "\t 测试样本个数为： 434 \n",
      "\t 预测错位个数为： 16 \n",
      "\t 预测错误率为： 3.69%\n",
      "\t 预测准确率为： 96.31%\n"
     ]
    }
   ],
   "source": [
    "ans=EnsembleLearning()"
   ]
  },
  {
   "cell_type": "code",
   "execution_count": 101,
   "metadata": {
    "collapsed": false
   },
   "outputs": [],
   "source": [
    "def EnsembleLearning():\n",
    "    #加载训练数据\n",
    "    trainingMat,hwlabels=load_trainingData()\n",
    "    #加载测试数据\n",
    "    testMat,goldlabels=load_testData()\n",
    "    data=LoadData()\n",
    "    #扩大测试集\n",
    "    trainingMat=np.concatenate((trainingMat,testMat))\n",
    "    hwlabels=np.concatenate((hwlabels,goldlabels))\n",
    "    #模型选择\n",
    "    knn=KNeighborsClassifier(algorithm='kd_tree',n_neighbors=3)\n",
    "    svc=SVC(C=1.0,kernel='linear')\n",
    "    mnb=MultinomialNB()\n",
    "    bnb=BernoulliNB()\n",
    "    dt=DecisionTreeClassifier(criterion='entropy',random_state=0)\n",
    "    gnb=GaussianNB()\n",
    "    #训练数据\n",
    "    knn.fit(trainingMat,hwlabels)\n",
    "    svc.fit(trainingMat,hwlabels)\n",
    "    mnb.fit(trainingMat,hwlabels)\n",
    "    bnb.fit(trainingMat,hwlabels)\n",
    "    dt.fit(trainingMat,hwlabels)\n",
    "    gnb.fit(trainingMat,hwlabels)\n",
    "    #预测数据\n",
    "    knnresult=knn.predict(testMat)\n",
    "    svcresult=svc.predict(testMat)\n",
    "    mnbresult=mnb.predict(testMat)\n",
    "    bnbresult=bnb.predict(testMat)\n",
    "    dtresult=dt.predict(testMat)\n",
    "    gnbresult=gnb.predict(testMat)\n",
    "    \n",
    "    m=len(knnresult)\n",
    "    ans=[]\n",
    "    for i in range(m):\n",
    "        temp=[]\n",
    "        #模型选择\n",
    "        temp.append(svcresult[i])\n",
    "        temp.append(knnresult[i])\n",
    "        #相对来说较好的\n",
    "#         temp.append(bnbresult[i])\n",
    "        temp.append(mnbresult[i])\n",
    "        #两条较差的\n",
    "#         temp.append(dtresult[i])\n",
    "#         temp.append(gnbresult[i]) #效果最差\n",
    "        ansnum=0\n",
    "        anscnt=0\n",
    "        for j in range(10):\n",
    "            if(temp.count(j)>=anscnt):\n",
    "                anscnt=temp.count(j)\n",
    "                ansnum=j\n",
    "        ans.append(ansnum)\n",
    "\n",
    "    errorCount=0.0\n",
    "    \n",
    "    m=len(ans)\n",
    "#     print len(ans)\n",
    "    for i in range(m):\n",
    "        if (ans[i]!=goldlabels[i]):\n",
    "            errorCount+=1.0;\n",
    "    \n",
    "    print '\\t 测试样本个数为： %d '%(m)\n",
    "    print '\\t 预测错位个数为： %d '%(errorCount)\n",
    "    print '\\t 预测错误率为： %2.2f%%'%(errorCount/float(m)*100.0)\n",
    "    print '\\t 预测准确率为： %2.2f%%'%((1-errorCount/float(m))*100.0)"
   ]
  },
  {
   "cell_type": "code",
   "execution_count": 102,
   "metadata": {
    "collapsed": false
   },
   "outputs": [
    {
     "name": "stdout",
     "output_type": "stream",
     "text": [
      "\t 测试样本个数为： 434 \n",
      "\t 预测错位个数为： 6 \n",
      "\t 预测错误率为： 1.38%\n",
      "\t 预测准确率为： 98.62%\n"
     ]
    }
   ],
   "source": [
    "ans=EnsembleLearning()"
   ]
  },
  {
   "cell_type": "code",
   "execution_count": 95,
   "metadata": {
    "collapsed": false
   },
   "outputs": [
    {
     "name": "stdout",
     "output_type": "stream",
     "text": [
      "<type 'numpy.ndarray'>\n",
      "<type 'numpy.ndarray'>\n"
     ]
    }
   ],
   "source": [
    "trainingMat,hwlabels=load_trainingData()\n",
    "testMat,goldlabels=load_testData()\n",
    "print type(trainingMat)\n",
    "print type(testMat)"
   ]
  },
  {
   "cell_type": "code",
   "execution_count": 99,
   "metadata": {
    "collapsed": true
   },
   "outputs": [],
   "source": [
    "temp=np.concatenate((trainingMat,testMat))\n",
    "trainingMat=np.concatenate((trainingMat,testMat))"
   ]
  },
  {
   "cell_type": "code",
   "execution_count": 100,
   "metadata": {
    "collapsed": false
   },
   "outputs": [
    {
     "name": "stdout",
     "output_type": "stream",
     "text": [
      "(1934L, 1024L)\n",
      "(1934L, 1024L)\n",
      "(434L, 1024L)\n"
     ]
    }
   ],
   "source": [
    "print shape(temp)\n",
    "print shape(trainingMat)\n",
    "print shape(testMat)"
   ]
  },
  {
   "cell_type": "code",
   "execution_count": null,
   "metadata": {
    "collapsed": true
   },
   "outputs": [],
   "source": []
  }
 ],
 "metadata": {
  "kernelspec": {
   "display_name": "Python 2",
   "language": "python",
   "name": "python2"
  },
  "language_info": {
   "codemirror_mode": {
    "name": "ipython",
    "version": 2
   },
   "file_extension": ".py",
   "mimetype": "text/x-python",
   "name": "python",
   "nbconvert_exporter": "python",
   "pygments_lexer": "ipython2",
   "version": "2.7.13"
  }
 },
 "nbformat": 4,
 "nbformat_minor": 2
}
