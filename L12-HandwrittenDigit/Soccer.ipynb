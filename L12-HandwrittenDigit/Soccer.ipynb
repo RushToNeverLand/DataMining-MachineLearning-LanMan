{
 "cells": [
  {
   "cell_type": "code",
   "execution_count": 1,
   "metadata": {
    "collapsed": true
   },
   "outputs": [],
   "source": [
    "from __future__ import division\n",
    "%matplotlib inline\n",
    "import matplotlib.pyplot as plt\n",
    "import pandas as pd\n",
    "import numpy as np\n",
    "import operator\n",
    "from os import listdir\n",
    "from numpy import *\n",
    "\n",
    "from sklearn.neighbors import KNeighborsClassifier\n",
    "from sklearn.svm import SVC\n",
    "from sklearn.tree import DecisionTreeClassifier\n",
    "from sklearn.naive_bayes import GaussianNB\n",
    "from sklearn.naive_bayes import MultinomialNB\n",
    "from sklearn.naive_bayes import BernoulliNB"
   ]
  },
  {
   "cell_type": "code",
   "execution_count": null,
   "metadata": {
    "collapsed": true
   },
   "outputs": [],
   "source": [
    "def load_trainingData():\n",
    "    hwlabels=[]\n",
    "    trainingFileList=listdir('./data/trainingDigits')\n",
    "    m=len(trainingFileList)\n",
    "    trainingMat=zeros((m,1024))\n",
    "    for i in range(m):\n",
    "        filenamestr=trainingFileList[i]\n",
    "        filestr=filenamestr.split('.')[0]\n",
    "        classnumstr=int(filestr.split('_')[0])\n",
    "        hwlabels.append(classnumstr)\n",
    "        trainingMat[i,:]=img2vect('data/trainingDigits/%s'%(filenamestr))\n",
    "    return trainingMat,hwlabels\n",
    "\n",
    "def img2vect(filename):\n",
    "    returnVect=zeros((1,1024))\n",
    "    fr=open(filename)\n",
    "    \n",
    "    for i in range(32):\n",
    "        lineStr=fr.readline()\n",
    "        for j in range(32):\n",
    "            returnVect[0,32*i+j]=int(lineStr[j])\n",
    "            \n",
    "    return returnVect\n",
    "\n",
    "def loadVideoData():\n",
    "    "
   ]
  }
 ],
 "metadata": {
  "kernelspec": {
   "display_name": "Python 3",
   "language": "python",
   "name": "python3"
  },
  "language_info": {
   "codemirror_mode": {
    "name": "ipython",
    "version": 3
   },
   "file_extension": ".py",
   "mimetype": "text/x-python",
   "name": "python",
   "nbconvert_exporter": "python",
   "pygments_lexer": "ipython3",
   "version": "3.6.1"
  }
 },
 "nbformat": 4,
 "nbformat_minor": 2
}
