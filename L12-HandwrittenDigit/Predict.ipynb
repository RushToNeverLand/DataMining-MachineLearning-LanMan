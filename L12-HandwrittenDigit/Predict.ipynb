{
 "cells": [
  {
   "cell_type": "code",
   "execution_count": 1,
   "metadata": {
    "collapsed": true
   },
   "outputs": [],
   "source": [
    "from __future__ import division\n",
    "%matplotlib inline\n",
    "import matplotlib.pyplot as plt\n",
    "import pandas as pd\n",
    "import numpy as np\n",
    "import operator\n",
    "from os import listdir\n",
    "from numpy import *\n",
    "\n",
    "from sklearn.neighbors import KNeighborsClassifier\n",
    "from sklearn.svm import SVC\n",
    "from sklearn.tree import DecisionTreeClassifier\n",
    "from sklearn.naive_bayes import GaussianNB\n",
    "from sklearn.naive_bayes import MultinomialNB\n",
    "from sklearn.naive_bayes import BernoulliNB"
   ]
  },
  {
   "cell_type": "code",
   "execution_count": 2,
   "metadata": {
    "collapsed": true
   },
   "outputs": [],
   "source": [
    "def load_trainingData():\n",
    "    hwlabels=[]\n",
    "    trainingFileList=listdir('./data/trainingDigits')\n",
    "    m=len(trainingFileList)\n",
    "    trainingMat=zeros((m,1024))\n",
    "    for i in range(m):\n",
    "        filenamestr=trainingFileList[i]\n",
    "        filestr=filenamestr.split('.')[0]\n",
    "        classnumstr=int(filestr.split('_')[0])\n",
    "        hwlabels.append(classnumstr)\n",
    "        trainingMat[i,:]=img2vect('data/trainingDigits/%s'%(filenamestr))\n",
    "    return trainingMat,hwlabels\n",
    "\n",
    "def img2vect(filename):\n",
    "    returnVect=zeros((1,1024))\n",
    "    fr=open(filename)\n",
    "    \n",
    "    for i in range(32):\n",
    "        lineStr=fr.readline()\n",
    "        for j in range(32):\n",
    "            returnVect[0,32*i+j]=int(lineStr[j])\n",
    "            \n",
    "    return returnVect\n",
    "\n",
    "def load_testData():\n",
    "    testFileList=listdir('./data/testDigits')\n",
    "    goldLabels=[]\n",
    "    mTest=len(testFileList)\n",
    "    testMat=zeros((mTest,1024))\n",
    "    for i in range(mTest):\n",
    "        fileNameStr=testFileList[i]\n",
    "        fileStr=fileNameStr.split('.')[0]\n",
    "        classNumStr=int(fileStr.split('_')[0])\n",
    "        goldLabels.append(classNumStr)\n",
    "        testMat[i,:]=img2vect('./data/testDigits/%s'%fileNameStr)\n",
    "    return testMat,goldLabels"
   ]
  },
  {
   "cell_type": "code",
   "execution_count": 3,
   "metadata": {
    "collapsed": true
   },
   "outputs": [],
   "source": [
    "# # 自定义打开数据文件\n",
    "# def LoadData():\n",
    "# #     hwlabels=[]\n",
    "#     # 放入要测试的文件\n",
    "#     trainingFileList=listdir('./data/trainingDigits')\n",
    "#     m=len(trainingFileList)\n",
    "#     trainingMat=zeros((m,1024))\n",
    "#     for i in range(m):\n",
    "#         filenamestr=trainingFileList[i]\n",
    "#         filestr=filenamestr.split('.')[0]\n",
    "#         classnumstr=int(filestr.split('_')[0])\n",
    "# #         hwlabels.append(classnumstr)\n",
    "#         trainingMat[i,:]=img2vect('data/trainingDigits/%s'%(filenamestr))\n",
    "#     return trainingMat"
   ]
  },
  {
   "cell_type": "code",
   "execution_count": 7,
   "metadata": {
    "collapsed": true
   },
   "outputs": [],
   "source": [
    "# # 集成学习测试\n",
    "# def EnsembleLearning():\n",
    "#     #加载数据\n",
    "#     #训练数据\n",
    "#     trainingMat,hwlabels=load_trainingData()\n",
    "#     #测试数据\n",
    "#     testMat,goldlabels=load_testData()\n",
    "# #     print len(trainingMat),len(hwlabels)\n",
    "# #     print len(testMat),len(goldlabels)\n",
    "#     trainingMat=np.concatenate((trainingMat,testMat))\n",
    "#     hwlabels=np.concatenate((hwlabels,goldlabels))\n",
    "# #     print len(trainingMat),len(hwlabels)\n",
    "# #     data=LoadData()\n",
    "#     #模型选择\n",
    "#     knn=KNeighborsClassifier(algorithm='kd_tree',n_neighbors=1)\n",
    "#     svc=SVC(C=1.0,kernel='linear')\n",
    "#     mnb=MultinomialNB()\n",
    "#     bnb=BernoulliNB()\n",
    "#     dt=DecisionTreeClassifier(criterion='entropy',random_state=0)\n",
    "#     gnb=GaussianNB()\n",
    "#     #训练数据\n",
    "#     knn.fit(trainingMat,hwlabels)\n",
    "#     svc.fit(trainingMat,hwlabels)\n",
    "#     mnb.fit(trainingMat,hwlabels)\n",
    "#     bnb.fit(trainingMat,hwlabels)\n",
    "#     dt.fit(trainingMat,hwlabels)\n",
    "#     gnb.fit(trainingMat,hwlabels)\n",
    "#     #预测数据\n",
    "#     knnresult=knn.predict(testMat)\n",
    "#     svcresult=svc.predict(testMat)\n",
    "#     mnbresult=mnb.predict(testMat)\n",
    "#     bnbresult=bnb.predict(testMat)\n",
    "#     dtresult=dt.predict(testMat)\n",
    "#     gnbresult=gnb.predict(testMat)\n",
    "    \n",
    "#     m=len(knnresult)\n",
    "#     ans=[]\n",
    "#     for i in range(m):\n",
    "#         temp=[]\n",
    "#         #模型选择\n",
    "#         temp.append(svcresult[i])\n",
    "#         temp.append(knnresult[i])\n",
    "#         #相对来说较好的\n",
    "# #         temp.append(bnbresult[i])\n",
    "#         temp.append(mnbresult[i])\n",
    "#         #两条较差的\n",
    "# #         temp.append(dtresult[i])\n",
    "# #         temp.append(gnbresult[i]) #效果最差\n",
    "#         ansnum=0\n",
    "#         anscnt=0\n",
    "#         for j in range(10):\n",
    "#             if(temp.count(j)>=anscnt):\n",
    "#                 anscnt=temp.count(j)\n",
    "#                 ansnum=j\n",
    "#         ans.append(ansnum)\n",
    "\n",
    "#     errorCount=0.0\n",
    "    \n",
    "#     m=len(ans)\n",
    "# #     print len(ans)\n",
    "#     for i in range(m):\n",
    "#         if (ans[i]!=goldlabels[i]):\n",
    "#             errorCount+=1.0;\n",
    "    \n",
    "#     print '\\t 测试样本个数为： %d '%(m)\n",
    "#     print '\\t 预测错位个数为： %d '%(errorCount)\n",
    "#     print '\\t 预测错误率为： %2.2f%%'%(errorCount/float(m)*100.0)\n",
    "#     print '\\t 预测准确率为： %2.2f%%'%((1-errorCount/float(m))*100.0)"
   ]
  },
  {
   "cell_type": "code",
   "execution_count": 8,
   "metadata": {},
   "outputs": [
    {
     "name": "stdout",
     "output_type": "stream",
     "text": [
      "\t 测试样本个数为： 434 \n",
      "\t 预测错位个数为： 0 \n",
      "\t 预测错误率为： 0.00%\n",
      "\t 预测准确率为： 100.00%\n"
     ]
    }
   ],
   "source": [
    "# ans=EnsembleLearning()"
   ]
  },
  {
   "cell_type": "code",
   "execution_count": 3,
   "metadata": {
    "collapsed": true
   },
   "outputs": [],
   "source": [
    "# 自定义打开数据文件\n",
    "# 用于打开测试文件，周五专用\n",
    "def LoadData():\n",
    "    # 放入要测试的文件\n",
    "    trainingFileList=listdir('./data/testDigits5')\n",
    "    m=len(trainingFileList)\n",
    "    Mat=zeros((m,1024))\n",
    "    filelabel=[]\n",
    "    for i in range(m):\n",
    "        filenamestr=trainingFileList[i]\n",
    "        filestr=filenamestr.split('.')[0]\n",
    "        filelabel.append(filestr)\n",
    "#         classnumstr=int(filestr.split('_')[0])\n",
    "#         hwlabels.append(classnumstr)\n",
    "        Mat[i,:]=img2vect('data/testDigits5/%s'%(filenamestr))\n",
    "#     return trainingMat\n",
    "    return filelabel,Mat"
   ]
  },
  {
   "cell_type": "code",
   "execution_count": 20,
   "metadata": {},
   "outputs": [],
   "source": [
    "#print 'test'"
   ]
  },
  {
   "cell_type": "code",
   "execution_count": 4,
   "metadata": {
    "collapsed": true
   },
   "outputs": [],
   "source": [
    "#加载训练数据\n",
    "trainingMat,hwlabels=load_trainingData()\n",
    "#加载测试数据\n",
    "testMat,goldlabels=load_testData()\n",
    "trainingMat=np.concatenate((trainingMat,testMat))\n",
    "hwlabels=np.concatenate((hwlabels,goldlabels))\n",
    "\n",
    "#模型选择\n",
    "knn=KNeighborsClassifier(algorithm='kd_tree',n_neighbors=1)\n",
    "svc=SVC(C=1.0,kernel='linear')\n",
    "mnb=MultinomialNB()\n",
    "bnb=BernoulliNB()\n",
    "dt=DecisionTreeClassifier(criterion='entropy',random_state=0)\n",
    "gnb=GaussianNB()"
   ]
  },
  {
   "cell_type": "code",
   "execution_count": 5,
   "metadata": {},
   "outputs": [
    {
     "data": {
      "text/plain": [
       "GaussianNB(priors=None)"
      ]
     },
     "execution_count": 5,
     "metadata": {},
     "output_type": "execute_result"
    }
   ],
   "source": [
    "#训练数据\n",
    "knn.fit(trainingMat,hwlabels)\n",
    "svc.fit(trainingMat,hwlabels)\n",
    "mnb.fit(trainingMat,hwlabels)\n",
    "bnb.fit(trainingMat,hwlabels)\n",
    "dt.fit(trainingMat,hwlabels)\n",
    "gnb.fit(trainingMat,hwlabels)"
   ]
  },
  {
   "cell_type": "code",
   "execution_count": 6,
   "metadata": {},
   "outputs": [],
   "source": [
    "#预测数据\n",
    "testlabel,testMat=LoadData()\n",
    "knnresult=knn.predict(testMat)\n",
    "svcresult=svc.predict(testMat)\n",
    "mnbresult=mnb.predict(testMat)\n",
    "bnbresult=bnb.predict(testMat)\n",
    "dtresult=dt.predict(testMat)\n",
    "gnbresult=gnb.predict(testMat)"
   ]
  },
  {
   "cell_type": "code",
   "execution_count": 7,
   "metadata": {
    "collapsed": true
   },
   "outputs": [],
   "source": [
    "m=len(knnresult)\n",
    "ans=[]\n",
    "for i in range(m):\n",
    "    temp=[]\n",
    "    #模型选择\n",
    "    temp.append(svcresult[i])\n",
    "    temp.append(knnresult[i])\n",
    "    #相对来说较好的\n",
    "    temp.append(bnbresult[i])\n",
    "#     temp.append(mnbresult[i])\n",
    "    #两条较差的\n",
    "#   temp.append(dtresult[i])\n",
    "#   temp.append(gnbresult[i]) #效果最差\n",
    "    ansnum=0\n",
    "    anscnt=0\n",
    "    for j in range(10):\n",
    "        if(temp.count(j)>=anscnt):\n",
    "            anscnt=temp.count(j)\n",
    "            ansnum=j\n",
    "    ans.append(ansnum)"
   ]
  },
  {
   "cell_type": "code",
   "execution_count": 9,
   "metadata": {},
   "outputs": [],
   "source": [
    "#写文件操作\n",
    "ansfile=open('10152130155_ans.txt','w')\n",
    "for i in range(0,len(ans)):\n",
    "    ansfile.write(testlabel[i]+'\\t'+str(ans[i])+'\\n')"
   ]
  },
  {
   "cell_type": "code",
   "execution_count": 31,
   "metadata": {},
   "outputs": [],
   "source": []
  },
  {
   "cell_type": "code",
   "execution_count": null,
   "metadata": {
    "collapsed": true
   },
   "outputs": [],
   "source": []
  }
 ],
 "metadata": {
  "kernelspec": {
   "display_name": "Python 3",
   "language": "python",
   "name": "python3"
  },
  "language_info": {
   "codemirror_mode": {
    "name": "ipython",
    "version": 3
   },
   "file_extension": ".py",
   "mimetype": "text/x-python",
   "name": "python",
   "nbconvert_exporter": "python",
   "pygments_lexer": "ipython3",
   "version": "3.6.1"
  }
 },
 "nbformat": 4,
 "nbformat_minor": 2
}
