{
 "cells": [
  {
   "cell_type": "code",
   "execution_count": 1,
   "metadata": {
    "collapsed": true
   },
   "outputs": [],
   "source": [
    "from __future__ import division\n",
    "import os,sys\n"
   ]
  },
  {
   "cell_type": "code",
   "execution_count": 2,
   "metadata": {
    "collapsed": false
   },
   "outputs": [],
   "source": [
    "import numpy as np\n",
    "import pandas as pd\n",
    "from pandas import Series,DataFrame\n",
    "%matplotlib inline\n",
    "import matplotlib.pyplot as plt"
   ]
  },
  {
   "cell_type": "code",
   "execution_count": 3,
   "metadata": {
    "collapsed": true
   },
   "outputs": [],
   "source": [
    "np.random.seed(12345)\n",
    "np.set_printoptions(precision=4)\n",
    "plt.rc('figure',figsize=(10,6))\n",
    "br='\\n'"
   ]
  },
  {
   "cell_type": "code",
   "execution_count": 4,
   "metadata": {
    "collapsed": true
   },
   "outputs": [],
   "source": [
    "def loadDataSet(fileName):\n",
    "    numFeat=len(open(fileName).readline().split('\\t'))-1\n",
    "    dataArr=[]\n",
    "    labelArr=[]\n",
    "    fr=open(fileName)\n",
    "    for line in fr.readlines():\n",
    "        lineArr=[]\n",
    "        #lineArr.append(1.0)\n",
    "        curLine=line.strip().split('\\t')\n",
    "        for i in range(numFeat):\n",
    "            lineArr.append(float(curLine[i]))\n",
    "        dataArr.append(lineArr)\n",
    "        labelArr.append(float(curLine[-1]))\n",
    "    return dataArr,labelArr"
   ]
  },
  {
   "cell_type": "code",
   "execution_count": 5,
   "metadata": {
    "collapsed": true
   },
   "outputs": [],
   "source": [
    "from math import *\n",
    "from numpy import *\n",
    "def standRegres(xArr,yArr):\n",
    "    xMat=mat(xArr)\n",
    "    yMat=mat(yArr).T\n",
    "    xTx=xMat.T*xMat\n",
    "    if(linalg.det(xTx)==0.0):\n",
    "        print \"This matrix is singular, cannot do inverse\"\n",
    "        return \n",
    "    ws=xTx.I*(xMat.T*yMat)\n",
    "    return ws"
   ]
  },
  {
   "cell_type": "code",
   "execution_count": 6,
   "metadata": {
    "collapsed": false
   },
   "outputs": [],
   "source": [
    "#!type data\\ex0.txt"
   ]
  },
  {
   "cell_type": "code",
   "execution_count": 7,
   "metadata": {
    "collapsed": false
   },
   "outputs": [],
   "source": [
    "xArr,yArr=loadDataSet(\"data/ex0.txt\")"
   ]
  },
  {
   "cell_type": "code",
   "execution_count": 8,
   "metadata": {
    "collapsed": false
   },
   "outputs": [
    {
     "data": {
      "text/plain": [
       "[[1.0, 0.067732], [1.0, 0.42781]]"
      ]
     },
     "execution_count": 8,
     "metadata": {},
     "output_type": "execute_result"
    }
   ],
   "source": [
    "xArr[0:2]"
   ]
  },
  {
   "cell_type": "code",
   "execution_count": 9,
   "metadata": {
    "collapsed": false
   },
   "outputs": [
    {
     "data": {
      "text/plain": [
       "[3.176513, 3.816464]"
      ]
     },
     "execution_count": 9,
     "metadata": {},
     "output_type": "execute_result"
    }
   ],
   "source": [
    "yArr[0:2]"
   ]
  },
  {
   "cell_type": "code",
   "execution_count": 10,
   "metadata": {
    "collapsed": false
   },
   "outputs": [],
   "source": [
    "ws=standRegres(xArr,yArr)"
   ]
  },
  {
   "cell_type": "code",
   "execution_count": 11,
   "metadata": {
    "collapsed": false
   },
   "outputs": [
    {
     "data": {
      "text/plain": [
       "matrix([[ 3.0077],\n",
       "        [ 1.6953]])"
      ]
     },
     "execution_count": 11,
     "metadata": {},
     "output_type": "execute_result"
    }
   ],
   "source": [
    "ws"
   ]
  },
  {
   "cell_type": "code",
   "execution_count": 12,
   "metadata": {
    "collapsed": true
   },
   "outputs": [],
   "source": [
    "xMat=mat(xArr)\n",
    "yMat=mat(yArr)\n",
    "yHat=xMat*ws"
   ]
  },
  {
   "cell_type": "code",
   "execution_count": 13,
   "metadata": {
    "collapsed": false
   },
   "outputs": [
    {
     "name": "stdout",
     "output_type": "stream",
     "text": [
      "[3.176513, 3.816464]\n",
      "[[ 3.1226]\n",
      " [ 3.733 ]]\n"
     ]
    }
   ],
   "source": [
    "print yArr[0:2]\n",
    "print yHat[0:2]"
   ]
  },
  {
   "cell_type": "code",
   "execution_count": 14,
   "metadata": {
    "collapsed": false
   },
   "outputs": [
    {
     "data": {
      "text/plain": [
       "[[3.1225708358971276], [3.7330192222448586]]"
      ]
     },
     "execution_count": 14,
     "metadata": {},
     "output_type": "execute_result"
    }
   ],
   "source": [
    "yHat[0:2].tolist()"
   ]
  },
  {
   "cell_type": "code",
   "execution_count": 15,
   "metadata": {
    "collapsed": false
   },
   "outputs": [
    {
     "data": {
      "text/plain": [
       "<matplotlib.collections.PathCollection at 0x96e7390>"
      ]
     },
     "execution_count": 15,
     "metadata": {},
     "output_type": "execute_result"
    },
    {
     "data": {
      "image/png": "[encoded data removed]",
      "text/plain": [
       "<matplotlib.figure.Figure at 0x9706c18>"
      ]
     },
     "metadata": {},
     "output_type": "display_data"
    }
   ],
   "source": [
    "fig=plt.figure()\n",
    "ax=fig.add_subplot(111)\n",
    "ax.scatter(xMat[:,1].flatten().A[0],yMat.T[:,0].flatten().A[0])"
   ]
  },
  {
   "cell_type": "code",
   "execution_count": 16,
   "metadata": {
    "collapsed": true
   },
   "outputs": [],
   "source": [
    "xCopy=xMat.copy()\n",
    "xCopy.sort(0)\n",
    "yHat=xCopy*ws"
   ]
  },
  {
   "cell_type": "code",
   "execution_count": 17,
   "metadata": {
    "collapsed": false
   },
   "outputs": [
    {
     "data": {
      "text/plain": [
       "[<matplotlib.lines.Line2D at 0x9b85208>]"
      ]
     },
     "execution_count": 17,
     "metadata": {},
     "output_type": "execute_result"
    },
    {
     "data": {
      "image/png": "[encoded data removed]",
      "text/plain": [
       "<matplotlib.figure.Figure at 0x98d60f0>"
      ]
     },
     "metadata": {},
     "output_type": "display_data"
    }
   ],
   "source": [
    "fig=plt.figure()\n",
    "ax=fig.add_subplot(111)\n",
    "ax.scatter(xMat[:,1].flatten().A[0],yMat.T[:,0].flatten().A[0])\n",
    "ax.plot(xCopy[:,1],yHat)"
   ]
  },
  {
   "cell_type": "code",
   "execution_count": 18,
   "metadata": {
    "collapsed": true
   },
   "outputs": [],
   "source": [
    "yHat=xMat*ws"
   ]
  },
  {
   "cell_type": "code",
   "execution_count": 19,
   "metadata": {
    "collapsed": false
   },
   "outputs": [
    {
     "data": {
      "text/plain": [
       "array([[ 1.    ,  0.9865],\n",
       "       [ 0.9865,  1.    ]])"
      ]
     },
     "execution_count": 19,
     "metadata": {},
     "output_type": "execute_result"
    }
   ],
   "source": [
    "corrcoef(yHat.T,yMat)"
   ]
  },
  {
   "cell_type": "code",
   "execution_count": 20,
   "metadata": {
    "collapsed": true
   },
   "outputs": [],
   "source": [
    "def lwlr(testPoint,xArr,yArr,k=1.0):#局部加权线性回归训练\n",
    "    xMat=mat(xArr)\n",
    "    yMat=mat(yArr).T\n",
    "    m=shape(xMat)[0]\n",
    "    weights=mat(eye((m)))\n",
    "    for j in range(m):\n",
    "        diffMat=testPoint-xMat[j,:]\n",
    "        weights[j,j]=exp(diffMat*diffMat.T/(-2.0*k**2))#权重值大小以指数级衰减，\n",
    "        #k控制速度\n",
    "    xTx=xMat.T*(weights*xMat)\n",
    "    if linalg.det(xTx)==0.0:\n",
    "        print \"This matrix is singular, cannot do inverse\"\n",
    "        return \n",
    "    ws=xTx.I*(xMat.T*(weights*yMat))#得到回归系数ws的一个估计\n",
    "    return testPoint*ws"
   ]
  },
  {
   "cell_type": "code",
   "execution_count": 21,
   "metadata": {
    "collapsed": false
   },
   "outputs": [],
   "source": [
    "def lwlrTest(testArr,xArr,yArr,k=1.0):#为数据集中每个点调用lwlr(),有助于求解k的大小\n",
    "    m=shape(testArr)[0]\n",
    "    yHat=zeros(m)\n",
    "    for i in range(m):\n",
    "        yHat[i]=lwlr(testArr[i],xArr,yArr,k)\n",
    "    return yHat"
   ]
  },
  {
   "cell_type": "code",
   "execution_count": 22,
   "metadata": {
    "collapsed": true
   },
   "outputs": [],
   "source": [
    "def lwlrTestPlot(xArr,yArr,k=1.0):\n",
    "    yHat=zeros(shape(yArr))\n",
    "    xCopy=mat(xArr)\n",
    "    xCopy.sort(0)\n",
    "    for i in range(shape(xArr)[0]):\n",
    "        yHat[i]=lwlr(xCopy[i],xArr,yArr,k)\n",
    "    return yHat,xCopy"
   ]
  },
  {
   "cell_type": "code",
   "execution_count": 23,
   "metadata": {
    "collapsed": true
   },
   "outputs": [],
   "source": [
    "xArr,yArr=loadDataSet(\"data/ex0.txt\")"
   ]
  },
  {
   "cell_type": "code",
   "execution_count": 24,
   "metadata": {
    "collapsed": false
   },
   "outputs": [
    {
     "name": "stdout",
     "output_type": "stream",
     "text": [
      "3.176513\n",
      "[[ 3.122]]\n",
      "[[ 3.1728]]\n",
      "[[ 3.2018]]\n"
     ]
    }
   ],
   "source": [
    "print yArr[0]\n",
    "print lwlr(xArr[0],xArr,yArr,1.0)\n",
    "print lwlr(xArr[0],xArr,yArr,0.05)\n",
    "print lwlr(xArr[0],xArr,yArr,0.001)"
   ]
  },
  {
   "cell_type": "code",
   "execution_count": 25,
   "metadata": {
    "collapsed": true
   },
   "outputs": [],
   "source": [
    "yHat=lwlrTest(xArr,xArr,yArr,1.0)"
   ]
  },
  {
   "cell_type": "code",
   "execution_count": 26,
   "metadata": {
    "collapsed": true
   },
   "outputs": [],
   "source": [
    "xMat=mat(xArr)\n",
    "srtlnd=xMat[:,1].argsort(0)\n",
    "xSort=xMat[srtlnd][:,0,:]"
   ]
  },
  {
   "cell_type": "code",
   "execution_count": 27,
   "metadata": {
    "collapsed": false
   },
   "outputs": [
    {
     "data": {
      "text/plain": [
       "[<matplotlib.lines.Line2D at 0x9e65438>]"
      ]
     },
     "execution_count": 27,
     "metadata": {},
     "output_type": "execute_result"
    },
    {
     "data": {
      "image/png": "[encoded data removed]",
      "text/plain": [
       "<matplotlib.figure.Figure at 0x9810438>"
      ]
     },
     "metadata": {},
     "output_type": "display_data"
    }
   ],
   "source": [
    "fig=plt.figure()\n",
    "ax=fig.add_subplot(111)\n",
    "ax.scatter(xMat[:,1].flatten().A[0],yMat.T[:,0].flatten().A[0],s=5,c='red')\n",
    "ax.plot(xSort[:,1],yHat[srtlnd])"
   ]
  },
  {
   "cell_type": "code",
   "execution_count": 28,
   "metadata": {
    "collapsed": false,
    "scrolled": false
   },
   "outputs": [
    {
     "data": {
      "text/plain": [
       "[<matplotlib.lines.Line2D at 0xa0f5320>]"
      ]
     },
     "execution_count": 28,
     "metadata": {},
     "output_type": "execute_result"
    },
    {
     "data": {
      "image/png": "[encoded data removed]",
      "text/plain": [
       "<matplotlib.figure.Figure at 0x9bbe940>"
      ]
     },
     "metadata": {},
     "output_type": "display_data"
    }
   ],
   "source": [
    "#改变k参数的值\n",
    "yHat=lwlrTest(xArr,xArr,yArr,0.01)\n",
    "\n",
    "xMat=mat(xArr)\n",
    "srtlnd=xMat[:,1].argsort(0)\n",
    "xSort=xMat[srtlnd][:,0,:]\n",
    "\n",
    "fig=plt.figure()\n",
    "ax=fig.add_subplot(111)\n",
    "ax.scatter(xMat[:,1].flatten().A[0],yMat.T[:,0].flatten().A[0],s=5,c='red')\n",
    "ax.plot(xSort[:,1],yHat[srtlnd])"
   ]
  },
  {
   "cell_type": "code",
   "execution_count": 29,
   "metadata": {
    "collapsed": false
   },
   "outputs": [
    {
     "data": {
      "text/plain": [
       "[<matplotlib.lines.Line2D at 0xb9aa080>]"
      ]
     },
     "execution_count": 29,
     "metadata": {},
     "output_type": "execute_result"
    },
    {
     "data": {
      "image/png": "[encoded data removed]",
      "text/plain": [
       "<matplotlib.figure.Figure at 0x9ba7b38>"
      ]
     },
     "metadata": {},
     "output_type": "display_data"
    }
   ],
   "source": [
    "#改变k参数的值，k=0.003\n",
    "yHat=lwlrTest(xArr,xArr,yArr,0.003)\n",
    "xMat=mat(xArr)\n",
    "srtlnd=xMat[:,1].argsort(0)\n",
    "xSort=xMat[srtlnd][:,0,:]\n",
    "\n",
    "fig=plt.figure()\n",
    "ax=fig.add_subplot(111)\n",
    "ax.scatter(xMat[:,1].flatten().A[0],yMat.T[:,0].flatten().A[0],s=2,c='red')\n",
    "ax.plot(xSort[:,1],yHat[srtlnd])"
   ]
  },
  {
   "cell_type": "code",
   "execution_count": 30,
   "metadata": {
    "collapsed": false
   },
   "outputs": [
    {
     "name": "stdout",
     "output_type": "stream",
     "text": [
      "56.7842091184 429.89056187 549.118170883\n",
      "\n",
      "\n",
      "25119.4591112 573.52614419 517.571190538\n",
      "\n",
      "\n"
     ]
    },
    {
     "data": {
      "text/plain": [
       "518.63631532464512"
      ]
     },
     "execution_count": 30,
     "metadata": {},
     "output_type": "execute_result"
    }
   ],
   "source": [
    "def rssError(yArr,yHatArr):\n",
    "    return ((yArr-yHatArr)**2).sum()\n",
    "\n",
    "abX,abY=loadDataSet('data/abalone.txt')\n",
    "\n",
    "yHat01=lwlrTest(abX[0:99],abX[0:99],abY[0:99],0.1)\n",
    "yHat1=lwlrTest(abX[0:99],abX[0:99],abY[0:99],1)\n",
    "yHat10=lwlrTest(abX[0:99],abX[0:99],abY[0:99],10)\n",
    "\n",
    "err01=rssError(abY[0:99],yHat01.T)\n",
    "err1=rssError(abY[0:99],yHat1.T)\n",
    "err10=rssError(abY[0:99],yHat10.T)\n",
    "\n",
    "print err01,err1,err10\n",
    "print '\\n'\n",
    "\n",
    "yHat01=lwlrTest(abX[100:199],abX[0:99],abY[0:99],0.1)\n",
    "yHat1 =lwlrTest(abX[100:199],abX[0:99],abY[0:99],1)\n",
    "yHat10=lwlrTest(abX[100:199],abX[0:99],abY[0:99],10)\n",
    "\n",
    "err01=rssError(abY[100:199],yHat01.T)\n",
    "err1=rssError(abY[100:199],yHat1.T)\n",
    "err10=rssError(abY[100:199],yHat10.T)\n",
    "print err01,err1,err10\n",
    "print '\\n'\n",
    "\n",
    "ws=standRegres(abX[0:99],abY[0:99])\n",
    "yHat=mat(abX[100:199])*ws\n",
    "rssError(abY[100:199],yHat.T.A)"
   ]
  },
  {
   "cell_type": "code",
   "execution_count": 31,
   "metadata": {
    "collapsed": true
   },
   "outputs": [],
   "source": [
    "def ridgeRegres(xArr,yArr,lam=0.2):\n",
    "    xMat=mat(xArr)\n",
    "    yMat=mat(yArr).T\n",
    "    xTx=xMat.T*xMat\n",
    "    denom=xTx+eye(shape(xMat)[1])*lam\n",
    "    if linalg.det(denom)==0.0:\n",
    "        print \"This matrix is singular, cannot do inverse\"\n",
    "        return\n",
    "    ws=denom.I*(xMat.T*yMat.T)\n",
    "    return ws\n",
    "\n",
    "def ridgeTest(xArr,yArr):\n",
    "    xMat=mat(xArr)\n",
    "    yMat=mat(yArr).T\n",
    "    yMean=mean(yMat,0)\n",
    "    yMat=yMat-yMean\n",
    "###\n",
    "    xMeans=mean(xMat,0)\n",
    "    xVar=var(xMat,0)\n",
    "    xMat=(xMat-xMeans)/xVar\n",
    "    numTestPts=30\n",
    "    wMat=zeros((numTestPts,shape(xMat)[1]))\n",
    "#     for i in range(numTestPts):\n",
    "#         ws=ridgeRegres(xMat,yMat,exp(i-10)\n",
    "#         wMat[i,:]=ws.T\n",
    "    for i in range(numTestPts):\n",
    "        ws=ridgeRegres(xMat,yMat,exp(i-10))\n",
    "        wMat[i,:]=ws.T\n",
    "    return wMat\n",
    "def loadDataSet(fileName):\n",
    "    numFeat=len(open(fileName).readline().split('\\t'))-1\n",
    "    dataArr=[]\n",
    "    labelArr=[]\n",
    "    fr=open(fileName)\n",
    "    for line in fr.readlines():\n",
    "        lineArr=[]\n",
    "        curLine=line.strip().split('\\t')\n",
    "        for i in range(numFeat):\n",
    "            lineArr.append(float(curLine[i]))\n",
    "        dataArr.append(lineArr)\n",
    "        labelArr.append(float(curLine[-1]))\n",
    "    return dataArr,labelArr"
   ]
  },
  {
   "cell_type": "code",
   "execution_count": 32,
   "metadata": {
    "collapsed": false
   },
   "outputs": [],
   "source": [
    "abX,abY=loadDataSet('data/abalone.txt')"
   ]
  },
  {
   "cell_type": "raw",
   "metadata": {},
   "source": [
    "abX[0:2]"
   ]
  },
  {
   "cell_type": "code",
   "execution_count": 33,
   "metadata": {
    "collapsed": false
   },
   "outputs": [
    {
     "name": "stdout",
     "output_type": "stream",
     "text": [
      "[[1.0, 0.455, 0.365, 0.095, 0.514, 0.2245, 0.101, 0.15], [1.0, 0.35, 0.265, 0.09, 0.2255, 0.0995, 0.0485, 0.07]]\n",
      "[15.0, 7.0]\n",
      "[[ 1.      0.455   0.365   0.095   0.514   0.2245  0.101   0.15  ]\n",
      " [ 1.      0.35    0.265   0.09    0.2255  0.0995  0.0485  0.07  ]\n",
      " [-1.      0.53    0.42    0.135   0.677   0.2565  0.1415  0.21  ]\n",
      " [ 1.      0.44    0.365   0.125   0.516   0.2155  0.114   0.155 ]\n",
      " [ 0.      0.33    0.255   0.08    0.205   0.0895  0.0395  0.055 ]]\n",
      "[[ 15.   7.   9.  10.   7.]]\n",
      "[15.0, 7.0, 9.0, 10.0, 7.0]\n"
     ]
    }
   ],
   "source": [
    "print abX[0:2]\n",
    "print abY[0:2]\n",
    "print mat(abX[:5])\n",
    "print mat(abY[:5])\n",
    "print abY[:5]"
   ]
  },
  {
   "cell_type": "code",
   "execution_count": 34,
   "metadata": {
    "collapsed": false
   },
   "outputs": [],
   "source": [
    "ridgeWeights=ridgeTest(abX,abY)"
   ]
  },
  {
   "cell_type": "code",
   "execution_count": 35,
   "metadata": {
    "collapsed": false
   },
   "outputs": [
    {
     "data": {
      "text/plain": [
       "array([[ 0.043 , -0.0227,  0.1321,  0.0208,  2.224 , -0.999 , -0.1173,\n",
       "         0.1662],\n",
       "       [ 0.043 , -0.0227,  0.1321,  0.0208,  2.224 , -0.999 , -0.1173,\n",
       "         0.1662]])"
      ]
     },
     "execution_count": 35,
     "metadata": {},
     "output_type": "execute_result"
    }
   ],
   "source": [
    "ridgeWeights[0:2]"
   ]
  },
  {
   "cell_type": "code",
   "execution_count": 36,
   "metadata": {
    "collapsed": false
   },
   "outputs": [
    {
     "data": {
      "image/png": "[encoded data removed]",
      "text/plain": [
       "<matplotlib.figure.Figure at 0xa1ef1d0>"
      ]
     },
     "metadata": {},
     "output_type": "display_data"
    },
    {
     "name": "stdout",
     "output_type": "stream",
     "text": [
      "423.173802638 429.629980174 460.977796571\n"
     ]
    }
   ],
   "source": [
    "fig=plt.figure()\n",
    "ax=fig.add_subplot(111)\n",
    "ax.plot(ridgeWeights)\n",
    "plt.show()\n",
    "\n",
    "RGws01=ridgeRegres(mat(abX[0:99]),mat(abY[0:99]).T,0.1)\n",
    "RGws02=ridgeRegres(mat(abX[0:99]),mat(abY[0:99]).T,0.2)\n",
    "RGws05=ridgeRegres(mat(abX[0:99]),mat(abY[0:99]).T,0.5)\n",
    "\n",
    "yHat01=mat(abX[100:199])*RGws01\n",
    "yHat02=mat(abX[100:199])*RGws02\n",
    "yHat05=mat(abX[100:199])*RGws05\n",
    "\n",
    "err01=rssError(abY[100:199],yHat01.T.A)\n",
    "err02=rssError(abY[100:199],yHat02.T.A)\n",
    "err05=rssError(abY[100:199],yHat05.T.A)\n",
    "\n",
    "print err01,err02,err05"
   ]
  },
  {
   "cell_type": "code",
   "execution_count": 37,
   "metadata": {
    "collapsed": true
   },
   "outputs": [],
   "source": [
    "def regularize(xMat):\n",
    "    inMat=xMat.copy()\n",
    "    inMeans=mean(inMat,0)\n",
    "    inVar=var(inMat,0)\n",
    "    inMat=(inMat-inMeans)/inVar\n",
    "    return inMat"
   ]
  },
  {
   "cell_type": "code",
   "execution_count": 38,
   "metadata": {
    "collapsed": true
   },
   "outputs": [],
   "source": [
    "def rssError(yArr,yHatArr):\n",
    "    return ((yArr-yHatArr)**2).sum()"
   ]
  },
  {
   "cell_type": "code",
   "execution_count": 39,
   "metadata": {
    "collapsed": true
   },
   "outputs": [],
   "source": [
    "def stageWise(xArr,yArr,eps=0.01,numlt=100):\n",
    "    xMat=mat(xArr)\n",
    "    yMat=mat(yArr).T\n",
    "    yMean=mean(yMat,0)\n",
    "    yMat=yMat-yMean\n",
    "    xMat=regularize(xMat)\n",
    "    m,n=shape(xMat)\n",
    "    returnMat=zeros((numlt,n))\n",
    "    ws=zeros((n,1))\n",
    "    wsTest=ws.copy()\n",
    "    wsMax=ws.copy()\n",
    "    for i in range(numlt):\n",
    "        #print ws.T\n",
    "        lowestError=inf;\n",
    "        for j in range(n):\n",
    "            for sign in [-1,1]:\n",
    "                wsTest=ws.copy()\n",
    "                wsTest[j]+=eps*sign\n",
    "                yTest=xMat*wsTest\n",
    "                rssE=rssError(yMat.A,yTest.A)\n",
    "                if rssE<lowestError:\n",
    "                    lowestError=rssE\n",
    "                    wsMax=wsTest\n",
    "        ws=wsMax.copy()\n",
    "        returnMat[i,:]=ws.T\n",
    "    return returnMat"
   ]
  },
  {
   "cell_type": "code",
   "execution_count": 40,
   "metadata": {
    "collapsed": true
   },
   "outputs": [],
   "source": [
    "abX,abY=loadDataSet('data/abalone.txt')"
   ]
  },
  {
   "cell_type": "code",
   "execution_count": 41,
   "metadata": {
    "collapsed": false
   },
   "outputs": [],
   "source": [
    "returnMat=stageWise(abX,abY,0.01,200)"
   ]
  },
  {
   "cell_type": "code",
   "execution_count": 42,
   "metadata": {
    "collapsed": false
   },
   "outputs": [
    {
     "data": {
      "text/plain": [
       "array([[ 0.  ,  0.  ,  0.  , ...,  0.  ,  0.  ,  0.  ],\n",
       "       [ 0.  ,  0.  ,  0.  , ...,  0.  ,  0.  ,  0.  ],\n",
       "       [ 0.  ,  0.  ,  0.  , ...,  0.  ,  0.  ,  0.  ],\n",
       "       ..., \n",
       "       [ 0.05,  0.  ,  0.09, ..., -0.64,  0.  ,  0.36],\n",
       "       [ 0.04,  0.  ,  0.09, ..., -0.64,  0.  ,  0.36],\n",
       "       [ 0.05,  0.  ,  0.09, ..., -0.64,  0.  ,  0.36]])"
      ]
     },
     "execution_count": 42,
     "metadata": {},
     "output_type": "execute_result"
    }
   ],
   "source": [
    "returnMat"
   ]
  },
  {
   "cell_type": "code",
   "execution_count": 43,
   "metadata": {
    "collapsed": false
   },
   "outputs": [
    {
     "data": {
      "text/plain": [
       "matrix([[ 0.043 , -0.0227,  0.1321,  0.0208,  2.224 , -0.999 , -0.1173,\n",
       "          0.1662]])"
      ]
     },
     "execution_count": 43,
     "metadata": {},
     "output_type": "execute_result"
    }
   ],
   "source": [
    "xMat=mat(abX)\n",
    "yMat=mat(abY).T\n",
    "xMat=regularize(xMat)\n",
    "yMat=yMat-mean(yMat,0)\n",
    "weights=standRegres(xMat,yMat.T)\n",
    "weights.T"
   ]
  },
  {
   "cell_type": "code",
   "execution_count": 45,
   "metadata": {
    "collapsed": true
   },
   "outputs": [],
   "source": [
    "stageWeights=stageWise(abX,abY,0.005,1000)#eps=0.05,经过1000次迭代后的结果"
   ]
  },
  {
   "cell_type": "code",
   "execution_count": 46,
   "metadata": {
    "collapsed": false
   },
   "outputs": [
    {
     "data": {
      "image/png": "[encoded data removed]",
      "text/plain": [
       "<matplotlib.figure.Figure at 0xb9f5e80>"
      ]
     },
     "metadata": {},
     "output_type": "display_data"
    }
   ],
   "source": [
    "fig=plt.figure()\n",
    "ax=fig.add_subplot(111)\n",
    "ax.plot(stageWeights)\n",
    "plt.show()"
   ]
  },
  {
   "cell_type": "code",
   "execution_count": 47,
   "metadata": {
    "collapsed": false
   },
   "outputs": [
    {
     "name": "stdout",
     "output_type": "stream",
     "text": [
      "[ 0.5  0.5]\n"
     ]
    }
   ],
   "source": [
    "from sklearn import linear_model\n",
    "clf=linear_model.LinearRegression()\n",
    "clf.fit([[0,0],[1,1],[2,2]],[0,1,2])\n",
    "print clf.coef_"
   ]
  },
  {
   "cell_type": "code",
   "execution_count": 48,
   "metadata": {
    "collapsed": false
   },
   "outputs": [],
   "source": [
    "clf=linear_model.LinearRegression()\n",
    "abX,abY=loadDataSet('data/abalone.txt')\n",
    "trainX=abX[0:99]\n",
    "trainY=abY[0:99]\n",
    "testX=abX[100:199]\n",
    "testY=abY[100:199]\n",
    "\n",
    "clf.fit(trainX,trainY)\n",
    "yHat=clf.predict(testX)"
   ]
  },
  {
   "cell_type": "raw",
   "metadata": {
    "collapsed": true
   },
   "source": []
  },
  {
   "cell_type": "code",
   "execution_count": 49,
   "metadata": {
    "collapsed": false
   },
   "outputs": [
    {
     "name": "stdout",
     "output_type": "stream",
     "text": [
      "[  7.484   10.8339]\n",
      "[7.0, 15.0]\n"
     ]
    },
    {
     "data": {
      "text/plain": [
       "0.53001606224451303"
      ]
     },
     "execution_count": 49,
     "metadata": {},
     "output_type": "execute_result"
    }
   ],
   "source": [
    "print yHat[:2]\n",
    "print testY[:2]\n",
    "clf.score(testX,testY)"
   ]
  },
  {
   "cell_type": "code",
   "execution_count": 50,
   "metadata": {
    "collapsed": false
   },
   "outputs": [
    {
     "data": {
      "text/plain": [
       "608.50102195578586"
      ]
     },
     "execution_count": 50,
     "metadata": {},
     "output_type": "execute_result"
    }
   ],
   "source": [
    "rssError(array(yHat),array(testY))"
   ]
  },
  {
   "cell_type": "code",
   "execution_count": 51,
   "metadata": {
    "collapsed": false
   },
   "outputs": [
    {
     "data": {
      "text/plain": [
       "0.24667813481453638"
      ]
     },
     "execution_count": 51,
     "metadata": {},
     "output_type": "execute_result"
    }
   ],
   "source": [
    "sqrt(rssError(array(yHat),array(testY)))/100"
   ]
  },
  {
   "cell_type": "code",
   "execution_count": 52,
   "metadata": {
    "collapsed": true
   },
   "outputs": [],
   "source": [
    "from sklearn import datasets\n",
    "from sklearn.svm import SVC\n",
    "from sklearn.linear_model import LogisticRegression\n",
    "from sklearn import linear_model"
   ]
  },
  {
   "cell_type": "code",
   "execution_count": null,
   "metadata": {
    "collapsed": true
   },
   "outputs": [],
   "source": []
  },
  {
   "cell_type": "code",
   "execution_count": 53,
   "metadata": {
    "collapsed": false
   },
   "outputs": [
    {
     "name": "stdout",
     "output_type": "stream",
     "text": [
      "[ 0.3455  0.3455]\n",
      "0.136363636364\n"
     ]
    }
   ],
   "source": [
    "clf=linear_model.Ridge(alpha=.5)\n",
    "clf.fit([[0,0],[0,0],[1,1]],[0,.1,1])\n",
    "print clf.coef_\n",
    "print clf.intercept_"
   ]
  },
  {
   "cell_type": "code",
   "execution_count": 54,
   "metadata": {
    "collapsed": false
   },
   "outputs": [
    {
     "data": {
      "text/plain": [
       "array([ 0.8])"
      ]
     },
     "execution_count": 54,
     "metadata": {},
     "output_type": "execute_result"
    }
   ],
   "source": [
    "clf=linear_model.Lasso(alpha=0.1)\n",
    "clf.fit([[0,0],[1,1]],[0,1])\n",
    "\n",
    "clf.predict([[1,1]])"
   ]
  },
  {
   "cell_type": "code",
   "execution_count": 55,
   "metadata": {
    "collapsed": false
   },
   "outputs": [
    {
     "data": {
      "text/plain": [
       "array([ 0.5])"
      ]
     },
     "execution_count": 55,
     "metadata": {},
     "output_type": "execute_result"
    }
   ],
   "source": [
    "clf=linear_model.ElasticNet(alpha=1.0)\n",
    "clf.fit([[0,0],[1,1]],[0,1])\n",
    "\n",
    "clf.predict([[1,1]])"
   ]
  },
  {
   "cell_type": "code",
   "execution_count": 56,
   "metadata": {
    "collapsed": false
   },
   "outputs": [
    {
     "data": {
      "text/plain": [
       "array([ 0.1536])"
      ]
     },
     "execution_count": 56,
     "metadata": {},
     "output_type": "execute_result"
    }
   ],
   "source": [
    "n_samples,n_features=10,5\n",
    "np.random.seed(0)\n",
    "y=np.random.randn(n_samples)\n",
    "X=np.random.randn(n_samples,n_features)\n",
    "clf=linear_model.SGDRegressor()\n",
    "clf.fit(X,y)\n",
    "\n",
    "clf.predict([[1,1,1,1,1]])"
   ]
  },
  {
   "cell_type": "code",
   "execution_count": null,
   "metadata": {
    "collapsed": true
   },
   "outputs": [],
   "source": []
  }
 ],
 "metadata": {
  "kernelspec": {
   "display_name": "Python 2",
   "language": "python",
   "name": "python2"
  },
  "language_info": {
   "codemirror_mode": {
    "name": "ipython",
    "version": 2
   },
   "file_extension": ".py",
   "mimetype": "text/x-python",
   "name": "python",
   "nbconvert_exporter": "python",
   "pygments_lexer": "ipython2",
   "version": "2.7.13"
  }
 },
 "nbformat": 4,
 "nbformat_minor": 2
}
