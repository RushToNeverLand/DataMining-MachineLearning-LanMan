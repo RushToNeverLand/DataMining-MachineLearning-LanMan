{
 "cells": [
  {
   "cell_type": "code",
   "execution_count": 1,
   "metadata": {
    "collapsed": true
   },
   "outputs": [],
   "source": [
    "from __future__ import division\n",
    "import os,sys\n",
    "from numpy import *\n",
    "from pandas import *\n",
    "%matplotlib inline\n",
    "import matplotlib.pyplot as plt"
   ]
  },
  {
   "cell_type": "code",
   "execution_count": 51,
   "metadata": {
    "collapsed": false
   },
   "outputs": [],
   "source": [
    "def loadDataSet(fileName):\n",
    "    numFeat=len(open(fileName).readline().split('\\t'))-2\n",
    "#     shuffle(numFeat)\n",
    "    dataArr=[]\n",
    "    lonArr=[]\n",
    "    latArr=[]\n",
    "    fr=open(fileName)\n",
    "    for line in fr.readlines():\n",
    "        lineArr=[]\n",
    "        lineArr.append(1.0)\n",
    "        curLine=line.strip().split('\\t')\n",
    "        for i in range(numFeat):\n",
    "            lineArr.append(float(curLine[i]))\n",
    "        dataArr.append(lineArr)\n",
    "        lonArr.append(float(curLine[-2]))\n",
    "        latArr.append(float(curLine[-1]))\n",
    "    return dataArr,lonArr,latArr\n",
    "\n",
    "def loadDataShuffle(fileName):\n",
    "    numFeat=len(open(fileName).readline().split('\\t'))-2\n",
    "    shuffle(numFeat)\n",
    "    dataArr=[]\n",
    "    lonArr=[]\n",
    "    latArr=[]\n",
    "    fr=open(fileName)\n",
    "    for line in fr.readlines():\n",
    "        lineArr=[]\n",
    "        lineArr.append(1.0)\n",
    "        curLine=line.strip().split('\\t')\n",
    "        for i in range(numFeat):\n",
    "            lineArr.append(float(curLine[i]))\n",
    "        dataArr.append(lineArr)\n",
    "        lonArr.append(float(curLine[-2]))\n",
    "        latArr.append(float(curLine[-1]))\n",
    "    \n",
    "    return dataArr,lonArr,latArr"
   ]
  },
  {
   "cell_type": "code",
   "execution_count": 52,
   "metadata": {
    "collapsed": true
   },
   "outputs": [],
   "source": [
    "#标准回归训练\n",
    "def standRegres(xArr,yArr):\n",
    "    xMat=mat(xArr)\n",
    "    yMat=mat(yArr).T\n",
    "    xTx=xMat.T*xMat\n",
    "    if linalg.det(xTx)==0.0:\n",
    "        print \"This matrix is singular, cannot do inverse\"\n",
    "        return \n",
    "    ws=xTx.I*(xMat.T*yMat)\n",
    "    return ws"
   ]
  },
  {
   "cell_type": "code",
   "execution_count": 53,
   "metadata": {
    "collapsed": false
   },
   "outputs": [],
   "source": [
    "dataArr,lonArr,latArr=loadDataSet('data/typhoon.dat')"
   ]
  },
  {
   "cell_type": "code",
   "execution_count": 6,
   "metadata": {
    "collapsed": true
   },
   "outputs": [],
   "source": [
    "#计算误差\n",
    "def absError(yArr,yHatArr):\n",
    "    return abs(yArr-yHatArr).sum()/len(yArr)"
   ]
  },
  {
   "cell_type": "code",
   "execution_count": 12,
   "metadata": {
    "collapsed": false
   },
   "outputs": [
    {
     "data": {
      "text/plain": [
       "matrix([[ -5.22117507e+01],\n",
       "        [ -2.41559628e+01],\n",
       "        [ -2.20391170e+00],\n",
       "        [  1.54024183e+00],\n",
       "        [  2.86360775e+01],\n",
       "        [ -2.04151547e-01],\n",
       "        [  1.72036633e+01],\n",
       "        [ -2.53525473e+00],\n",
       "        [ -5.78965209e-01],\n",
       "        [  2.46324053e+03],\n",
       "        [ -2.68751857e+02],\n",
       "        [  2.09402377e-03],\n",
       "        [ -2.46306574e+03],\n",
       "        [  2.37824028e+01],\n",
       "        [  1.10008615e-01],\n",
       "        [ -1.99004552e-01],\n",
       "        [ -1.92329344e-02]])"
      ]
     },
     "execution_count": 12,
     "metadata": {},
     "output_type": "execute_result"
    }
   ],
   "source": [
    "#预测台风经度\n",
    "# print dataArr,lonArr#\n",
    "wsLon=standRegres(dataArr,lonArr)\n",
    "wsLon"
   ]
  },
  {
   "cell_type": "code",
   "execution_count": 11,
   "metadata": {
    "collapsed": false
   },
   "outputs": [
    {
     "data": {
      "text/plain": [
       "matrix([[ -4.85017424e+00],\n",
       "        [ -2.78274387e+01],\n",
       "        [  6.54714037e+00],\n",
       "        [ -1.29482250e+01],\n",
       "        [  2.89541891e+01],\n",
       "        [  6.44887627e+00],\n",
       "        [ -1.12761247e+00],\n",
       "        [ -9.14706751e-01],\n",
       "        [ -1.83840359e-01],\n",
       "        [  2.55659584e+03],\n",
       "        [ -2.78578528e+02],\n",
       "        [ -3.90012434e-04],\n",
       "        [ -2.55425100e+03],\n",
       "        [  2.91181103e+01],\n",
       "        [ -1.58895030e+00],\n",
       "        [  1.03093603e-01],\n",
       "        [  1.60601813e-02]])"
      ]
     },
     "execution_count": 11,
     "metadata": {},
     "output_type": "execute_result"
    }
   ],
   "source": [
    "#预测台风纬度\n",
    "wsLat=standRegres(dataArr,latArr)\n",
    "wsLat"
   ]
  },
  {
   "cell_type": "code",
   "execution_count": 14,
   "metadata": {
    "collapsed": true
   },
   "outputs": [],
   "source": [
    "xMat=mat(dataArr)"
   ]
  },
  {
   "cell_type": "code",
   "execution_count": 49,
   "metadata": {
    "collapsed": false
   },
   "outputs": [
    {
     "ename": "NameError",
     "evalue": "name 'yArr' is not defined",
     "output_type": "error",
     "traceback": [
      "\u001b[0;31m---------------------------------------------------------------------------\u001b[0m",
      "\u001b[0;31mNameError\u001b[0m                                 Traceback (most recent call last)",
      "\u001b[0;32m<ipython-input-49-a64bd688ccf1>\u001b[0m in \u001b[0;36m<module>\u001b[0;34m()\u001b[0m\n\u001b[1;32m      1\u001b[0m \u001b[0mlonHatArr\u001b[0m\u001b[1;33m=\u001b[0m\u001b[0mxMat\u001b[0m\u001b[1;33m*\u001b[0m\u001b[0mwsLon\u001b[0m\u001b[1;33m\u001b[0m\u001b[0m\n\u001b[1;32m      2\u001b[0m \u001b[0mlatHatArr\u001b[0m\u001b[1;33m=\u001b[0m\u001b[0mxMat\u001b[0m\u001b[1;33m*\u001b[0m\u001b[0mwsLat\u001b[0m\u001b[1;33m\u001b[0m\u001b[0m\n\u001b[0;32m----> 3\u001b[0;31m \u001b[0mxMat\u001b[0m\u001b[1;33m=\u001b[0m\u001b[0mmat\u001b[0m\u001b[1;33m(\u001b[0m\u001b[0myArr\u001b[0m\u001b[1;33m)\u001b[0m\u001b[1;33m\u001b[0m\u001b[0m\n\u001b[0m\u001b[1;32m      4\u001b[0m \u001b[1;31m# fig=plt.figure()\u001b[0m\u001b[1;33m\u001b[0m\u001b[1;33m\u001b[0m\u001b[0m\n\u001b[1;32m      5\u001b[0m \u001b[1;31m# ax=fig.add_subplot(111)\u001b[0m\u001b[1;33m\u001b[0m\u001b[1;33m\u001b[0m\u001b[0m\n",
      "\u001b[0;31mNameError\u001b[0m: name 'yArr' is not defined"
     ]
    }
   ],
   "source": [
    "lonHatArr=xMat*wsLon\n",
    "latHatArr=xMat*wsLat\n",
    "\n",
    "# fig=plt.figure()\n",
    "# ax=fig.add_subplot(111)\n",
    "# ax.scatter(xMat[:,1].flatten().A[0],lonHatArr.T[:,0].flatten().A[0])"
   ]
  },
  {
   "cell_type": "code",
   "execution_count": 28,
   "metadata": {
    "collapsed": false
   },
   "outputs": [],
   "source": [
    "#计算误差平方和\n",
    "def rssError(yArr,yHatArr):\n",
    "    return ((yArr-yHatArr)**2).sum()"
   ]
  },
  {
   "cell_type": "code",
   "execution_count": 25,
   "metadata": {
    "collapsed": false
   },
   "outputs": [
    {
     "name": "stdout",
     "output_type": "stream",
     "text": [
      "62623121.9136\n"
     ]
    }
   ],
   "source": [
    "print rssError(array(xMat),array(lonHatArr))"
   ]
  },
  {
   "cell_type": "code",
   "execution_count": 26,
   "metadata": {
    "collapsed": false
   },
   "outputs": [
    {
     "name": "stdout",
     "output_type": "stream",
     "text": [
      "79.1347723277\n"
     ]
    }
   ],
   "source": [
    "print sqrt(rssError(array(xMat),array(lonHatArr)))/100"
   ]
  },
  {
   "cell_type": "code",
   "execution_count": 64,
   "metadata": {
    "collapsed": true
   },
   "outputs": [],
   "source": [
    "#shuffle 随机化\n",
    " \n",
    "# data=data.as_matrix()\n",
    "# shuffle(data)\n",
    "# p=0.8\n",
    "# train=data[;int(len(data)*p),:]\n",
    "# test=data[int(len(data)*p):,:]\n",
    "\n",
    "# print len(train),len(test)\n",
    "\n",
    "def DataSort(filename,p=0.8):\n",
    "#     p为测试集的比例,filename为保存数据的文件名字\n",
    "    dataArr,lonArr,latArr=loadDataSet(filename)\n",
    "#     p=0.8\n",
    "    trainX=dataArr[0:int(len(dataArr)*p)-1]\n",
    "    lonTrainY=lonArr[0:int(len(lonArr)*p)-1]\n",
    "    latTrainY=latArr[0:int(len(latArr)*p)-1]\n",
    "    testX=dataArr[int(len(dataArr)*p):]\n",
    "    lonTestY=lonArr[int(len(lonArr)*p):]\n",
    "    latTestY=latArr[int(len(latArr)*p):]\n",
    "#     print int(len(dataArr)*p),int(len(lonArr)*p),int(len(latArr)*p)\n",
    "    return trainX,lonTrainY,latTrainY,testX,lonTestY,latTestY"
   ]
  },
  {
   "cell_type": "code",
   "execution_count": 21,
   "metadata": {
    "collapsed": false
   },
   "outputs": [
    {
     "name": "stdout",
     "output_type": "stream",
     "text": [
      "9.29602384744\n",
      "4.7429854076\n"
     ]
    }
   ],
   "source": [
    "#经度误差\n",
    "absErrorLon=absError(lonArr,lonHatArr.T)\n",
    "print absErrorLon\n",
    "#纬度误差\n",
    "absErrorLat=absError(latArr,latHatArr.T)\n",
    "print absErrorLat"
   ]
  },
  {
   "cell_type": "code",
   "execution_count": 22,
   "metadata": {
    "collapsed": false
   },
   "outputs": [
    {
     "data": {
      "text/plain": [
       "array([[ 1.       ,  0.9545544],\n",
       "       [ 0.9545544,  1.       ]])"
      ]
     },
     "execution_count": 22,
     "metadata": {},
     "output_type": "execute_result"
    }
   ],
   "source": [
    "corrcoef(lonHatArr.T,lonArr)"
   ]
  },
  {
   "cell_type": "code",
   "execution_count": 23,
   "metadata": {
    "collapsed": false
   },
   "outputs": [
    {
     "data": {
      "text/plain": [
       "array([[ 1.        ,  0.91666963],\n",
       "       [ 0.91666963,  1.        ]])"
      ]
     },
     "execution_count": 23,
     "metadata": {},
     "output_type": "execute_result"
    }
   ],
   "source": [
    "corrcoef(latHatArr.T,latArr)"
   ]
  },
  {
   "cell_type": "code",
   "execution_count": 24,
   "metadata": {
    "collapsed": false
   },
   "outputs": [
    {
     "data": {
      "text/plain": [
       "1147.9698760778765"
      ]
     },
     "execution_count": 24,
     "metadata": {},
     "output_type": "execute_result"
    }
   ],
   "source": [
    "110*sqrt(absErrorLon**2+absErrorLat**2)"
   ]
  },
  {
   "cell_type": "code",
   "execution_count": 42,
   "metadata": {
    "collapsed": false
   },
   "outputs": [
    {
     "name": "stdout",
     "output_type": "stream",
     "text": [
      "1.15470562835\n",
      "0.862023508569\n",
      "158.508038823\n"
     ]
    },
    {
     "data": {
      "image/png": "[encoded data removed]",
      "text/plain": [
       "<matplotlib.figure.Figure at 0xbebe7f0>"
      ]
     },
     "metadata": {},
     "output_type": "display_data"
    },
    {
     "data": {
      "image/png": "[encoded data removed]",
      "text/plain": [
       "<matplotlib.figure.Figure at 0xeb89f60>"
      ]
     },
     "metadata": {},
     "output_type": "display_data"
    }
   ],
   "source": [
    "#调用Sklearn的线性回归算法\n",
    "from sklearn import linear_model\n",
    "\n",
    "dataArr,lonArr,latArr=loadDataSet('data/typhoon.dat')\n",
    "trainX=dataArr[0:299]\n",
    "lonTrainY=lonArr[0:299]\n",
    "latTrainY=latArr[0:299]\n",
    "testX=dataArr[300:]\n",
    "lonTestY=lonArr[300:]\n",
    "latTestY=latArr[300:]\n",
    "\n",
    "# trainX,lonTrainY,latTrainY,testX,lonTestY,latTestY=DataSort('data/typhoon.dat',0.6)\n",
    "\n",
    "\n",
    "clf=linear_model.LinearRegression()\n",
    "\n",
    "clf.fit(trainX,lonTrainY)\n",
    "lonHatY=clf.predict(testX)\n",
    "\n",
    "clf.fit(trainX,latTrainY)\n",
    "latHatY=clf.predict(testX)\n",
    "absErrorlon=absError(lonTestY,lonHatY)\n",
    "absErrorlat=absError(latTestY,latHatY)\n",
    "\n",
    "print absErrorlon\n",
    "print absErrorlat\n",
    "print 110*sqrt(absErrorlon**2+absErrorlat**2)\n",
    "\n",
    "#画出真实值与预测值的相关分布\n",
    "plot_coe(lonTestY,lonHatY,latTestY,latHatY)"
   ]
  },
  {
   "cell_type": "code",
   "execution_count": 26,
   "metadata": {
    "collapsed": false
   },
   "outputs": [
    {
     "name": "stdout",
     "output_type": "stream",
     "text": [
      "1.15470562835\n",
      "0.862023508569\n",
      "158.508038823\n"
     ]
    }
   ],
   "source": [
    "absErrorlon=absError(lonTestY,lonHatY)\n",
    "absErrorlat=absError(latTestY,latHatY)\n",
    "\n",
    "print absErrorlon\n",
    "print absErrorlat\n",
    "print 110*sqrt(absErrorlon**2+absErrorlat**2)"
   ]
  },
  {
   "cell_type": "code",
   "execution_count": 27,
   "metadata": {
    "collapsed": true
   },
   "outputs": [],
   "source": [
    "#局部加权线性回归训练\n",
    "def lwlr(testPoint,xArr,yArr,k=1.0):#局部加权线性回归训练\n",
    "    xMat=mat(xArr)\n",
    "    yMat=mat(yArr).T\n",
    "    m=shape(xMat)[0]\n",
    "    weights=mat(eye((m)))\n",
    "    for j in range(m):\n",
    "        diffMat=testPoint-xMat[j,:]\n",
    "        weights[j,j]=exp(diffMat*diffMat.T/(-2.0*k**2))#权重值大小以指数级衰减，\n",
    "        #k控制速度\n",
    "    xTx=xMat.T*(weights*xMat)\n",
    "    if linalg.det(xTx)==0.0:\n",
    "        print \"This matrix is singular, cannot do inverse\"\n",
    "        return \n",
    "    ws=xTx.I*(xMat.T*(weights*yMat))#得到回归系数ws的一个估计\n",
    "    return testPoint*ws\n",
    "\n",
    "def lwlrTest(testArr,xArr,yArr,k=1.0):#为数据集中每个点调用lwlr(),有助于求解k的大小\n",
    "    m=shape(testArr)[0]\n",
    "    yHat=zeros(m)\n",
    "    for i in range(m):\n",
    "        yHat[i]=lwlr(testArr[i],xArr,yArr,k)\n",
    "    return yHat\n",
    "\n",
    "def lwlrTestPlot(xArr,yArr,k=1.0):\n",
    "    yHat=zeros(shape(yArr))\n",
    "    xCopy=mat(xArr)\n",
    "    xCopy.sort(0)\n",
    "    for i in range(shape(xArr)[0]):\n",
    "        yHat[i]=lwlr(xCopy[i],xArr,yArr,k)\n",
    "    return yHat,xCopy"
   ]
  },
  {
   "cell_type": "code",
   "execution_count": 28,
   "metadata": {
    "collapsed": false
   },
   "outputs": [],
   "source": [
    "#岭回归\n",
    "def ridgeRegres(xArr,yArr,lam=0.2):\n",
    "    xMat=mat(xArr)\n",
    "    yMat=mat(yArr).T\n",
    "    xTx=xMat.T*xMat\n",
    "    denom=xTx+eye(shape(xMat)[1])*lam\n",
    "    if linalg.det(denom)==0.0:\n",
    "        print \"This matrix is singular, cannot do inverse\"\n",
    "        return\n",
    "    ws=denom.I*(xMat.T*yMat.T)\n",
    "    return ws\n",
    "\n",
    "def ridgeTest(xArr,yArr):\n",
    "    xMat=mat(xArr)\n",
    "    yMat=mat(yArr).T\n",
    "    yMean=mean(yMat,0)\n",
    "    yMat=yMat-yMean\n",
    "###\n",
    "    xMeans=mean(xMat,0)\n",
    "    xVar=var(xMat,0)\n",
    "    xMat=(xMat-xMeans)/xVar\n",
    "    numTestPts=30\n",
    "    wMat=zeros((numTestPts,shape(xMat)[1]))\n",
    "#     for i in range(numTestPts):\n",
    "#         ws=ridgeRegres(xMat,yMat,exp(i-10)\n",
    "#         wMat[i,:]=ws.T\n",
    "    for i in range(numTestPts):\n",
    "        ws=ridgeRegres(xMat,yMat,exp(i-10))\n",
    "        wMat[i,:]=ws.T\n",
    "    return wMat"
   ]
  },
  {
   "cell_type": "code",
   "execution_count": 29,
   "metadata": {
    "collapsed": true
   },
   "outputs": [],
   "source": [
    "#前向逐步回归\n",
    "def stageWise(xArr,yArr,eps=0.01,numlt=100):\n",
    "    xMat=mat(xArr)\n",
    "    yMat=mat(yArr).T\n",
    "    yMean=mean(yMat,0)\n",
    "    yMat=yMat-yMean\n",
    "    xMat=regularize(xMat)\n",
    "    m,n=shape(xMat)\n",
    "    returnMat=zeros((numlt,n))\n",
    "    ws=zeros((n,1))\n",
    "    wsTest=ws.copy()\n",
    "    wsMax=ws.copy()\n",
    "    for i in range(numlt):\n",
    "        #print ws.T\n",
    "        lowestError=inf;\n",
    "        for j in range(n):\n",
    "            for sign in [-1,1]:\n",
    "                wsTest=ws.copy()\n",
    "                wsTest[j]+=eps*sign\n",
    "                yTest=xMat*wsTest\n",
    "                rssE=rssError(yMat.A,yTest.A)\n",
    "                if rssE<lowestError:\n",
    "                    lowestError=rssE\n",
    "                    wsMax=wsTest\n",
    "        ws=wsMax.copy()\n",
    "        returnMat[i,:]=ws.T\n",
    "    return returnMat"
   ]
  },
  {
   "cell_type": "code",
   "execution_count": 30,
   "metadata": {
    "collapsed": true
   },
   "outputs": [],
   "source": [
    "from sklearn import datasets\n",
    "from sklearn.svm import SVC\n",
    "from sklearn.linear_model import LogisticRegression\n",
    "from sklearn import linear_model"
   ]
  },
  {
   "cell_type": "code",
   "execution_count": 40,
   "metadata": {
    "collapsed": false
   },
   "outputs": [
    {
     "name": "stdout",
     "output_type": "stream",
     "text": [
      "1.14446149628\n",
      "0.873174215789\n",
      "158.347486446\n"
     ]
    },
    {
     "data": {
      "image/png": "[encoded data removed]",
      "text/plain": [
       "<matplotlib.figure.Figure at 0xef8fda0>"
      ]
     },
     "metadata": {},
     "output_type": "display_data"
    },
    {
     "data": {
      "image/png": "[encoded data removed]",
      "text/plain": [
       "<matplotlib.figure.Figure at 0xc0aa668>"
      ]
     },
     "metadata": {},
     "output_type": "display_data"
    }
   ],
   "source": [
    "#调用Sklearn的岭回归算法\n",
    "dataArr,lonArr,latArr=loadDataSet('data/typhoon.dat')\n",
    "trainX=dataArr[0:299]\n",
    "lonTrainY=lonArr[0:299]\n",
    "latTrainY=latArr[0:299]\n",
    "testX=dataArr[300:]\n",
    "lonTestY=lonArr[300:]\n",
    "latTestY=latArr[300:]\n",
    "\n",
    "clf=linear_model.Ridge(alpha=0.5)\n",
    "clf.fit(trainX,lonTrainY)\n",
    "lonHatY=clf.predict(testX)\n",
    "\n",
    "clf.fit(trainX,latTrainY)\n",
    "latHatY=clf.predict(testX)\n",
    "absErrorlon=absError(lonTestY,lonHatY)\n",
    "absErrorlat=absError(latTestY,latHatY)\n",
    "\n",
    "print absErrorlon\n",
    "print absErrorlat\n",
    "print 110*sqrt(absErrorlon**2+absErrorlat**2)\n",
    "#画出真实值与预测值的相关分布\n",
    "plot_coe(lonTestY,lonHatY,latTestY,latHatY)"
   ]
  },
  {
   "cell_type": "code",
   "execution_count": 39,
   "metadata": {
    "collapsed": false
   },
   "outputs": [
    {
     "name": "stdout",
     "output_type": "stream",
     "text": [
      "1.17686223428\n",
      "0.912718857663\n",
      "163.824696619\n"
     ]
    },
    {
     "data": {
      "image/png": "[encoded data removed]",
      "text/plain": [
       "<matplotlib.figure.Figure at 0xf3d0320>"
      ]
     },
     "metadata": {},
     "output_type": "display_data"
    },
    {
     "data": {
      "image/png": "[encoded data removed]",
      "text/plain": [
       "<matplotlib.figure.Figure at 0xef0a860>"
      ]
     },
     "metadata": {},
     "output_type": "display_data"
    }
   ],
   "source": [
    "#调用Sklearn的Lasso线性回归算法\n",
    "from sklearn import linear_model\n",
    "\n",
    "dataArr,lonArr,latArr=loadDataSet('data/typhoon.dat')\n",
    "trainX=dataArr[0:299]\n",
    "lonTrainY=lonArr[0:299]\n",
    "latTrainY=latArr[0:299]\n",
    "testX=dataArr[300:]\n",
    "lonTestY=lonArr[300:]\n",
    "latTestY=latArr[300:]\n",
    "\n",
    "clf=linear_model.Lasso(alpha=0.1)\n",
    "\n",
    "clf.fit(trainX,lonTrainY)\n",
    "lonHatY=clf.predict(testX)\n",
    "\n",
    "clf.fit(trainX,latTrainY)\n",
    "latHatY=clf.predict(testX)\n",
    "absErrorlon=absError(lonTestY,lonHatY)\n",
    "absErrorlat=absError(latTestY,latHatY)\n",
    "\n",
    "print absErrorlon\n",
    "print absErrorlat\n",
    "print 110*sqrt(absErrorlon**2+absErrorlat**2)\n",
    "#画出真实值与预测值的相关分布\n",
    "plot_coe(lonTestY,lonHatY,latTestY,latHatY)"
   ]
  },
  {
   "cell_type": "code",
   "execution_count": 38,
   "metadata": {
    "collapsed": false
   },
   "outputs": [
    {
     "name": "stdout",
     "output_type": "stream",
     "text": [
      "1.1907830249\n",
      "0.955334681947\n",
      "167.930359553\n"
     ]
    },
    {
     "data": {
      "image/png": "[encoded data removed]",
      "text/plain": [
       "<matplotlib.figure.Figure at 0xef9c0b8>"
      ]
     },
     "metadata": {},
     "output_type": "display_data"
    },
    {
     "data": {
      "image/png": "[encoded data removed]",
      "text/plain": [
       "<matplotlib.figure.Figure at 0xf1ff7f0>"
      ]
     },
     "metadata": {},
     "output_type": "display_data"
    }
   ],
   "source": [
    "#调用Sklearn的ElasticNet线性回归算法\n",
    "from sklearn import linear_model\n",
    "\n",
    "dataArr,lonArr,latArr=loadDataSet('data/typhoon.dat')\n",
    "trainX=dataArr[0:299]\n",
    "lonTrainY=lonArr[0:299]\n",
    "latTrainY=latArr[0:299]\n",
    "testX=dataArr[300:]\n",
    "lonTestY=lonArr[300:]\n",
    "latTestY=latArr[300:]\n",
    "\n",
    "clf=linear_model.ElasticNet(alpha=1.0)\n",
    "\n",
    "clf.fit(trainX,lonTrainY)\n",
    "lonHatY=clf.predict(testX)\n",
    "\n",
    "clf.fit(trainX,latTrainY)\n",
    "latHatY=clf.predict(testX)\n",
    "absErrorlon=absError(lonTestY,lonHatY)\n",
    "absErrorlat=absError(latTestY,latHatY)\n",
    "\n",
    "print absErrorlon\n",
    "print absErrorlat\n",
    "print 110*sqrt(absErrorlon**2+absErrorlat**2)\n",
    "\n",
    "#画出真实值与预测值的相关分布\n",
    "plot_coe(lonTestY,lonHatY,latTestY,latHatY)"
   ]
  },
  {
   "cell_type": "code",
   "execution_count": 48,
   "metadata": {
    "collapsed": false
   },
   "outputs": [
    {
     "name": "stdout",
     "output_type": "stream",
     "text": [
      "4.33560437091e+13\n",
      "3.50413347272e+13\n",
      "6.13208481296e+15\n"
     ]
    },
    {
     "data": {
      "image/png": "[encoded data removed]",
      "text/plain": [
       "<matplotlib.figure.Figure at 0xe85c5c0>"
      ]
     },
     "metadata": {},
     "output_type": "display_data"
    },
    {
     "data": {
      "image/png": "[encoded data removed]",
      "text/plain": [
       "<matplotlib.figure.Figure at 0xea0c710>"
      ]
     },
     "metadata": {},
     "output_type": "display_data"
    }
   ],
   "source": [
    "#调用Sklearn的SGDRegressor回归算法\n",
    "from sklearn import linear_model\n",
    "import numpy as np\n",
    "\n",
    "dataArr,lonArr,latArr=loadDataSet('data/typhoon.dat')\n",
    "trainX=dataArr[0:299]\n",
    "lonTrainY=lonArr[0:299]\n",
    "latTrainY=latArr[0:299]\n",
    "testX=dataArr[300:]\n",
    "lonTestY=lonArr[300:]\n",
    "latTestY=latArr[300:]\n",
    "\n",
    "clf=linear_model.SGDRegressor()\n",
    "\n",
    "clf.fit(trainX,lonTrainY)\n",
    "lonHatY=clf.predict(testX)\n",
    "\n",
    "clf.fit(trainX,latTrainY)\n",
    "latHatY=clf.predict(testX)\n",
    "absErrorlon=absError(lonTestY,lonHatY)\n",
    "absErrorlat=absError(latTestY,latHatY)\n",
    "\n",
    "print absErrorlon\n",
    "print absErrorlat\n",
    "print 110*sqrt(absErrorlon**2+absErrorlat**2)\n",
    "\n",
    "#画出真实值与预测值的相关分布\n",
    "plot_coe(lonTestY,lonHatY,latTestY,latHatY)"
   ]
  },
  {
   "cell_type": "code",
   "execution_count": 79,
   "metadata": {
    "collapsed": true
   },
   "outputs": [],
   "source": [
    "#局部加权线性回归训练\n",
    "def lwlr(testPoint,xArr,yArr,k=1.0):#局部加权线性回归训练\n",
    "    xMat=mat(xArr)\n",
    "    yMat=mat(yArr).T\n",
    "    m=shape(xMat)[0]\n",
    "    weights=mat(eye((m)))\n",
    "    for j in range(m):\n",
    "        diffMat=testPoint-xMat[j,:]\n",
    "        weights[j,j]=exp(diffMat*diffMat.T/(-2.0*k**2))#权重值大小以指数级衰减，\n",
    "        #k控制速度\n",
    "    xTx=xMat.T*(weights*xMat)\n",
    "    if linalg.det(xTx)==0.0:\n",
    "        print \"This matrix is singular, cannot do inverse\"\n",
    "        return \n",
    "    ws=xTx.I*(xMat.T*(weights*yMat))#得到回归系数ws的一个估计\n",
    "    return testPoint*ws\n",
    "\n",
    "def lwlrTest(testArr,xArr,yArr,k=1.0):#为数据集中每个点调用lwlr(),有助于求解k的大小\n",
    "    m=shape(testArr)[0]\n",
    "    yHat=zeros(m)\n",
    "    for i in range(m):\n",
    "        yHat[i]=lwlr(testArr[i],xArr,yArr,k)\n",
    "    return yHat\n",
    "\n",
    "def lwlrTestPlot(xArr,yArr,k=1.0):\n",
    "    yHat=zeros(shape(yArr))\n",
    "    xCopy=mat(xArr)\n",
    "    xCopy.sort(0)\n",
    "    for i in range(shape(xArr)[0]):\n",
    "        yHat[i]=lwlr(xCopy[i],xArr,yArr,k)\n",
    "    return yHat,xCopy"
   ]
  },
  {
   "cell_type": "code",
   "execution_count": 80,
   "metadata": {
    "collapsed": false
   },
   "outputs": [
    {
     "name": "stdout",
     "output_type": "stream",
     "text": [
      "[1.0, 122.0, -13.047, -14.85, 125.4, -16.624, -1.5, 122.7, 124.5, 18.7, 5.5, 92.641, 18.1, -3.4, 18.6, 17.4, 60.0]\n"
     ]
    }
   ],
   "source": [
    "dataArr,lonArr,latArr=loadDataSet('data/typhoon.dat')\n"
   ]
  },
  {
   "cell_type": "code",
   "execution_count": 47,
   "metadata": {
    "collapsed": true
   },
   "outputs": [],
   "source": [
    "def plot_coe(lonTestY,lonHatY,latTestY,latHatY):\n",
    "    fig1=plt.figure('fig1')\n",
    "    ax1=fig1.add_subplot(111)\n",
    "    ax1.scatter(lonTestY,lonHatY)\n",
    "    plt.xlabel('lonTestY')\n",
    "    plt.ylabel('lonHatY')\n",
    "    fig2=plt.figure('fig2')\n",
    "    ax2=fig2.add_subplot(111)\n",
    "    ax2.scatter(latTestY,latHatY)\n",
    "    plt.xlabel('latTestY')\n",
    "    plt.ylabel('latHatY')"
   ]
  },
  {
   "cell_type": "code",
   "execution_count": null,
   "metadata": {
    "collapsed": true
   },
   "outputs": [],
   "source": []
  }
 ],
 "metadata": {
  "kernelspec": {
   "display_name": "Python 2",
   "language": "python",
   "name": "python2"
  },
  "language_info": {
   "codemirror_mode": {
    "name": "ipython",
    "version": 2
   },
   "file_extension": ".py",
   "mimetype": "text/x-python",
   "name": "python",
   "nbconvert_exporter": "python",
   "pygments_lexer": "ipython2",
   "version": "2.7.13"
  }
 },
 "nbformat": 4,
 "nbformat_minor": 2
}
