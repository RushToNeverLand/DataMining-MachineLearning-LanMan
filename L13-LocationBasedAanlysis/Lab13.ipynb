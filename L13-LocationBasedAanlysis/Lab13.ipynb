{
 "cells": [
  {
   "cell_type": "code",
   "execution_count": 1,
   "metadata": {
    "collapsed": true
   },
   "outputs": [],
   "source": [
    "from __future__ import division\n",
    "import os,sys\n",
    "\n",
    "%matplotlib inline\n",
    "import matplotlib.pyplot as plt\n",
    "import numpy as np\n",
    "import pandas as pd"
   ]
  },
  {
   "cell_type": "code",
   "execution_count": 2,
   "metadata": {
    "collapsed": true
   },
   "outputs": [],
   "source": [
    "filename='data/business_circle.xls'\n",
    "standardizedfile='data/standardized.xls'"
   ]
  },
  {
   "cell_type": "code",
   "execution_count": 3,
   "metadata": {
    "collapsed": false
   },
   "outputs": [
    {
     "data": {
      "text/html": [
       "<div>\n",
       "<table border=\"1\" class=\"dataframe\">\n",
       "  <thead>\n",
       "    <tr style=\"text-align: right;\">\n",
       "      <th></th>\n",
       "      <th>工作日上班时间人均停留时间</th>\n",
       "      <th>凌晨人均停留时间</th>\n",
       "      <th>周末人均停留时间</th>\n",
       "      <th>日均人流量</th>\n",
       "    </tr>\n",
       "    <tr>\n",
       "      <th>基站编号</th>\n",
       "      <th></th>\n",
       "      <th></th>\n",
       "      <th></th>\n",
       "      <th></th>\n",
       "    </tr>\n",
       "  </thead>\n",
       "  <tbody>\n",
       "    <tr>\n",
       "      <th>36902</th>\n",
       "      <td>78</td>\n",
       "      <td>521</td>\n",
       "      <td>602</td>\n",
       "      <td>2863</td>\n",
       "    </tr>\n",
       "    <tr>\n",
       "      <th>36903</th>\n",
       "      <td>144</td>\n",
       "      <td>600</td>\n",
       "      <td>521</td>\n",
       "      <td>2245</td>\n",
       "    </tr>\n",
       "    <tr>\n",
       "      <th>36904</th>\n",
       "      <td>95</td>\n",
       "      <td>457</td>\n",
       "      <td>468</td>\n",
       "      <td>1283</td>\n",
       "    </tr>\n",
       "    <tr>\n",
       "      <th>36905</th>\n",
       "      <td>69</td>\n",
       "      <td>596</td>\n",
       "      <td>695</td>\n",
       "      <td>1054</td>\n",
       "    </tr>\n",
       "    <tr>\n",
       "      <th>36906</th>\n",
       "      <td>190</td>\n",
       "      <td>527</td>\n",
       "      <td>691</td>\n",
       "      <td>2051</td>\n",
       "    </tr>\n",
       "  </tbody>\n",
       "</table>\n",
       "</div>"
      ],
      "text/plain": [
       "       工作日上班时间人均停留时间  凌晨人均停留时间  周末人均停留时间  日均人流量\n",
       "基站编号                                           \n",
       "36902             78       521       602   2863\n",
       "36903            144       600       521   2245\n",
       "36904             95       457       468   1283\n",
       "36905             69       596       695   1054\n",
       "36906            190       527       691   2051"
      ]
     },
     "execution_count": 3,
     "metadata": {},
     "output_type": "execute_result"
    }
   ],
   "source": [
    "data=pd.read_excel(filename,index_col=u'基站编号')\n",
    "data.head()"
   ]
  },
  {
   "cell_type": "code",
   "execution_count": 5,
   "metadata": {
    "collapsed": false
   },
   "outputs": [
    {
     "data": {
      "text/html": [
       "<div>\n",
       "<table border=\"1\" class=\"dataframe\">\n",
       "  <thead>\n",
       "    <tr style=\"text-align: right;\">\n",
       "      <th></th>\n",
       "      <th>基站编号</th>\n",
       "      <th>工作日上班时间人均停留时间</th>\n",
       "      <th>凌晨人均停留时间</th>\n",
       "      <th>周末人均停留时间</th>\n",
       "      <th>日均人流量</th>\n",
       "    </tr>\n",
       "  </thead>\n",
       "  <tbody>\n",
       "    <tr>\n",
       "      <th>0</th>\n",
       "      <td>36902</td>\n",
       "      <td>0.103865</td>\n",
       "      <td>0.856364</td>\n",
       "      <td>0.850539</td>\n",
       "      <td>0.169153</td>\n",
       "    </tr>\n",
       "    <tr>\n",
       "      <th>1</th>\n",
       "      <td>36903</td>\n",
       "      <td>0.263285</td>\n",
       "      <td>1.000000</td>\n",
       "      <td>0.725732</td>\n",
       "      <td>0.118210</td>\n",
       "    </tr>\n",
       "    <tr>\n",
       "      <th>2</th>\n",
       "      <td>36904</td>\n",
       "      <td>0.144928</td>\n",
       "      <td>0.740000</td>\n",
       "      <td>0.644068</td>\n",
       "      <td>0.038909</td>\n",
       "    </tr>\n",
       "    <tr>\n",
       "      <th>3</th>\n",
       "      <td>36905</td>\n",
       "      <td>0.082126</td>\n",
       "      <td>0.992727</td>\n",
       "      <td>0.993837</td>\n",
       "      <td>0.020031</td>\n",
       "    </tr>\n",
       "    <tr>\n",
       "      <th>4</th>\n",
       "      <td>36906</td>\n",
       "      <td>0.374396</td>\n",
       "      <td>0.867273</td>\n",
       "      <td>0.987673</td>\n",
       "      <td>0.102217</td>\n",
       "    </tr>\n",
       "  </tbody>\n",
       "</table>\n",
       "</div>"
      ],
      "text/plain": [
       "    基站编号  工作日上班时间人均停留时间  凌晨人均停留时间  周末人均停留时间     日均人流量\n",
       "0  36902       0.103865  0.856364  0.850539  0.169153\n",
       "1  36903       0.263285  1.000000  0.725732  0.118210\n",
       "2  36904       0.144928  0.740000  0.644068  0.038909\n",
       "3  36905       0.082126  0.992727  0.993837  0.020031\n",
       "4  36906       0.374396  0.867273  0.987673  0.102217"
      ]
     },
     "execution_count": 5,
     "metadata": {},
     "output_type": "execute_result"
    }
   ],
   "source": [
    "data=(data-data.min())/(data.max()-data.min())\n",
    "data=data.reset_index()\n",
    "data.head()"
   ]
  },
  {
   "cell_type": "code",
   "execution_count": 6,
   "metadata": {
    "collapsed": true
   },
   "outputs": [],
   "source": [
    "data.to_excel(standardizedfile,index=False)"
   ]
  },
  {
   "cell_type": "code",
   "execution_count": 7,
   "metadata": {
    "collapsed": true
   },
   "outputs": [],
   "source": [
    "standardizedfile='data/standardized.xls'\n",
    "data=pd.read_excel(standardizedfile,index_col=u'基站编号')"
   ]
  },
  {
   "cell_type": "code",
   "execution_count": 8,
   "metadata": {
    "collapsed": false
   },
   "outputs": [
    {
     "data": {
      "image/png": "[encoded data removed]",
      "text/plain": [
       "<matplotlib.figure.Figure at 0xa30b3c8>"
      ]
     },
     "metadata": {},
     "output_type": "display_data"
    }
   ],
   "source": [
    "from scipy.cluster.hierarchy import linkage,dendrogram\n",
    "\n",
    "Z=linkage(data,method='ward',metric='euclidean')\n",
    "P=dendrogram(Z,0)\n",
    "plt.show()"
   ]
  },
  {
   "cell_type": "code",
   "execution_count": 9,
   "metadata": {
    "collapsed": false
   },
   "outputs": [
    {
     "data": {
      "text/html": [
       "<div>\n",
       "<table border=\"1\" class=\"dataframe\">\n",
       "  <thead>\n",
       "    <tr style=\"text-align: right;\">\n",
       "      <th></th>\n",
       "      <th>工作日上班时间人均停留时间</th>\n",
       "      <th>凌晨人均停留时间</th>\n",
       "      <th>周末人均停留时间</th>\n",
       "      <th>日均人流量</th>\n",
       "    </tr>\n",
       "    <tr>\n",
       "      <th>基站编号</th>\n",
       "      <th></th>\n",
       "      <th></th>\n",
       "      <th></th>\n",
       "      <th></th>\n",
       "    </tr>\n",
       "  </thead>\n",
       "  <tbody>\n",
       "    <tr>\n",
       "      <th>36902</th>\n",
       "      <td>0.103865</td>\n",
       "      <td>0.856364</td>\n",
       "      <td>0.850539</td>\n",
       "      <td>0.169153</td>\n",
       "    </tr>\n",
       "    <tr>\n",
       "      <th>36903</th>\n",
       "      <td>0.263285</td>\n",
       "      <td>1.000000</td>\n",
       "      <td>0.725732</td>\n",
       "      <td>0.118210</td>\n",
       "    </tr>\n",
       "    <tr>\n",
       "      <th>36904</th>\n",
       "      <td>0.144928</td>\n",
       "      <td>0.740000</td>\n",
       "      <td>0.644068</td>\n",
       "      <td>0.038909</td>\n",
       "    </tr>\n",
       "    <tr>\n",
       "      <th>36905</th>\n",
       "      <td>0.082126</td>\n",
       "      <td>0.992727</td>\n",
       "      <td>0.993837</td>\n",
       "      <td>0.020031</td>\n",
       "    </tr>\n",
       "    <tr>\n",
       "      <th>36906</th>\n",
       "      <td>0.374396</td>\n",
       "      <td>0.867273</td>\n",
       "      <td>0.987673</td>\n",
       "      <td>0.102217</td>\n",
       "    </tr>\n",
       "  </tbody>\n",
       "</table>\n",
       "</div>"
      ],
      "text/plain": [
       "       工作日上班时间人均停留时间  凌晨人均停留时间  周末人均停留时间     日均人流量\n",
       "基站编号                                              \n",
       "36902       0.103865  0.856364  0.850539  0.169153\n",
       "36903       0.263285  1.000000  0.725732  0.118210\n",
       "36904       0.144928  0.740000  0.644068  0.038909\n",
       "36905       0.082126  0.992727  0.993837  0.020031\n",
       "36906       0.374396  0.867273  0.987673  0.102217"
      ]
     },
     "execution_count": 9,
     "metadata": {},
     "output_type": "execute_result"
    }
   ],
   "source": [
    "k=3\n",
    "data=pd.read_excel(standardizedfile,index_col=u'基站编号')\n",
    "data.head()"
   ]
  },
  {
   "cell_type": "code",
   "execution_count": 10,
   "metadata": {
    "collapsed": false
   },
   "outputs": [
    {
     "data": {
      "text/plain": [
       "AgglomerativeClustering(affinity='euclidean', compute_full_tree='auto',\n",
       "            connectivity=None, linkage='ward',\n",
       "            memory=Memory(cachedir=None), n_clusters=3,\n",
       "            pooling_func=<function mean at 0x0000000002DA3C88>)"
      ]
     },
     "execution_count": 10,
     "metadata": {},
     "output_type": "execute_result"
    }
   ],
   "source": [
    "from sklearn.cluster import AgglomerativeClustering\n",
    "model=AgglomerativeClustering(n_clusters=k,linkage='ward')\n",
    "model.fit(data)"
   ]
  },
  {
   "cell_type": "code",
   "execution_count": 11,
   "metadata": {
    "collapsed": true
   },
   "outputs": [],
   "source": [
    "r=pd.concat([data,pd.Series(model.labels_,index=data.index)],axis=1)\n",
    "\n",
    "r.columns=list(data.columns)+[u'聚类类别']"
   ]
  },
  {
   "cell_type": "code",
   "execution_count": 12,
   "metadata": {
    "collapsed": false
   },
   "outputs": [
    {
     "data": {
      "text/html": [
       "<div>\n",
       "<table border=\"1\" class=\"dataframe\">\n",
       "  <thead>\n",
       "    <tr style=\"text-align: right;\">\n",
       "      <th></th>\n",
       "      <th>工作日上班时间人均停留时间</th>\n",
       "      <th>凌晨人均停留时间</th>\n",
       "      <th>周末人均停留时间</th>\n",
       "      <th>日均人流量</th>\n",
       "      <th>聚类类别</th>\n",
       "    </tr>\n",
       "    <tr>\n",
       "      <th>基站编号</th>\n",
       "      <th></th>\n",
       "      <th></th>\n",
       "      <th></th>\n",
       "      <th></th>\n",
       "      <th></th>\n",
       "    </tr>\n",
       "  </thead>\n",
       "  <tbody>\n",
       "    <tr>\n",
       "      <th>36902</th>\n",
       "      <td>0.103865</td>\n",
       "      <td>0.856364</td>\n",
       "      <td>0.850539</td>\n",
       "      <td>0.169153</td>\n",
       "      <td>1</td>\n",
       "    </tr>\n",
       "    <tr>\n",
       "      <th>36903</th>\n",
       "      <td>0.263285</td>\n",
       "      <td>1.000000</td>\n",
       "      <td>0.725732</td>\n",
       "      <td>0.118210</td>\n",
       "      <td>1</td>\n",
       "    </tr>\n",
       "    <tr>\n",
       "      <th>36904</th>\n",
       "      <td>0.144928</td>\n",
       "      <td>0.740000</td>\n",
       "      <td>0.644068</td>\n",
       "      <td>0.038909</td>\n",
       "      <td>1</td>\n",
       "    </tr>\n",
       "    <tr>\n",
       "      <th>36905</th>\n",
       "      <td>0.082126</td>\n",
       "      <td>0.992727</td>\n",
       "      <td>0.993837</td>\n",
       "      <td>0.020031</td>\n",
       "      <td>1</td>\n",
       "    </tr>\n",
       "    <tr>\n",
       "      <th>36906</th>\n",
       "      <td>0.374396</td>\n",
       "      <td>0.867273</td>\n",
       "      <td>0.987673</td>\n",
       "      <td>0.102217</td>\n",
       "      <td>1</td>\n",
       "    </tr>\n",
       "  </tbody>\n",
       "</table>\n",
       "</div>"
      ],
      "text/plain": [
       "       工作日上班时间人均停留时间  凌晨人均停留时间  周末人均停留时间     日均人流量  聚类类别\n",
       "基站编号                                                    \n",
       "36902       0.103865  0.856364  0.850539  0.169153     1\n",
       "36903       0.263285  1.000000  0.725732  0.118210     1\n",
       "36904       0.144928  0.740000  0.644068  0.038909     1\n",
       "36905       0.082126  0.992727  0.993837  0.020031     1\n",
       "36906       0.374396  0.867273  0.987673  0.102217     1"
      ]
     },
     "execution_count": 12,
     "metadata": {},
     "output_type": "execute_result"
    }
   ],
   "source": [
    "r.head()"
   ]
  },
  {
   "cell_type": "code",
   "execution_count": 13,
   "metadata": {
    "collapsed": false
   },
   "outputs": [
    {
     "data": {
      "text/html": [
       "<div>\n",
       "<table border=\"1\" class=\"dataframe\">\n",
       "  <thead>\n",
       "    <tr style=\"text-align: right;\">\n",
       "      <th></th>\n",
       "      <th>工作日上班时间人均停留时间</th>\n",
       "      <th>凌晨人均停留时间</th>\n",
       "      <th>周末人均停留时间</th>\n",
       "      <th>日均人流量</th>\n",
       "      <th>聚类类别</th>\n",
       "    </tr>\n",
       "    <tr>\n",
       "      <th>基站编号</th>\n",
       "      <th></th>\n",
       "      <th></th>\n",
       "      <th></th>\n",
       "      <th></th>\n",
       "      <th></th>\n",
       "    </tr>\n",
       "  </thead>\n",
       "  <tbody>\n",
       "    <tr>\n",
       "      <th>35562</th>\n",
       "      <td>0.125604</td>\n",
       "      <td>0.081818</td>\n",
       "      <td>0.291217</td>\n",
       "      <td>0.608771</td>\n",
       "      <td>0</td>\n",
       "    </tr>\n",
       "    <tr>\n",
       "      <th>38624</th>\n",
       "      <td>0.152174</td>\n",
       "      <td>0.072727</td>\n",
       "      <td>0.354391</td>\n",
       "      <td>0.590718</td>\n",
       "      <td>0</td>\n",
       "    </tr>\n",
       "    <tr>\n",
       "      <th>36017</th>\n",
       "      <td>0.205314</td>\n",
       "      <td>0.003636</td>\n",
       "      <td>0.129430</td>\n",
       "      <td>0.973539</td>\n",
       "      <td>0</td>\n",
       "    </tr>\n",
       "    <tr>\n",
       "      <th>38827</th>\n",
       "      <td>0.154589</td>\n",
       "      <td>0.089091</td>\n",
       "      <td>0.118644</td>\n",
       "      <td>0.927129</td>\n",
       "      <td>0</td>\n",
       "    </tr>\n",
       "    <tr>\n",
       "      <th>37787</th>\n",
       "      <td>0.154589</td>\n",
       "      <td>0.001818</td>\n",
       "      <td>0.329738</td>\n",
       "      <td>0.802984</td>\n",
       "      <td>0</td>\n",
       "    </tr>\n",
       "  </tbody>\n",
       "</table>\n",
       "</div>"
      ],
      "text/plain": [
       "       工作日上班时间人均停留时间  凌晨人均停留时间  周末人均停留时间     日均人流量  聚类类别\n",
       "基站编号                                                    \n",
       "35562       0.125604  0.081818  0.291217  0.608771     0\n",
       "38624       0.152174  0.072727  0.354391  0.590718     0\n",
       "36017       0.205314  0.003636  0.129430  0.973539     0\n",
       "38827       0.154589  0.089091  0.118644  0.927129     0\n",
       "37787       0.154589  0.001818  0.329738  0.802984     0"
      ]
     },
     "execution_count": 13,
     "metadata": {},
     "output_type": "execute_result"
    }
   ],
   "source": [
    "r.tail()"
   ]
  },
  {
   "cell_type": "code",
   "execution_count": 15,
   "metadata": {
    "collapsed": false
   },
   "outputs": [
    {
     "data": {
      "image/png": "[encoded data removed]",
      "text/plain": [
       "<matplotlib.figure.Figure at 0xc283390>"
      ]
     },
     "metadata": {},
     "output_type": "display_data"
    },
    {
     "data": {
      "image/png": "[encoded data removed]",
      "text/plain": [
       "<matplotlib.figure.Figure at 0xb711828>"
      ]
     },
     "metadata": {},
     "output_type": "display_data"
    },
    {
     "data": {
      "image/png": "[encoded data removed]",
      "text/plain": [
       "<matplotlib.figure.Figure at 0xbfbdb70>"
      ]
     },
     "metadata": {},
     "output_type": "display_data"
    }
   ],
   "source": [
    "plt.rcParams['font.sans-serif']=['SimHei']\n",
    "plt.rcParams['axes.unicode_minus']=False\n",
    "\n",
    "style=['ro-','go-','bo-']\n",
    "xlabels=[u'工作日人均停留时间',u'凌晨人均停留时间',u'周末人均停留时间',u'日均人流量']\n",
    "pic_output='data/type_'\n",
    "\n",
    "for i in range(k):\n",
    "    plt.figure()\n",
    "    tmp=r[r[u'聚类类别']==i].iloc[:,:4]\n",
    "    for j in range(len(tmp)):\n",
    "        plt.plot(range(1,5),tmp.iloc[j],style[i])\n",
    "        \n",
    "    plt.xticks(range(1,5),xlabels,rotation=20)\n",
    "    plt.title(u'商圈类别%s'%(i+1))\n",
    "    plt.subplots_adjust(bottom=0.15)\n",
    "    plt.savefig(u'%s%s.png'%(pic_output,i+1))\n",
    "    "
   ]
  },
  {
   "cell_type": "code",
   "execution_count": null,
   "metadata": {
    "collapsed": true
   },
   "outputs": [],
   "source": []
  }
 ],
 "metadata": {
  "kernelspec": {
   "display_name": "Python 2",
   "language": "python",
   "name": "python2"
  },
  "language_info": {
   "codemirror_mode": {
    "name": "ipython",
    "version": 2
   },
   "file_extension": ".py",
   "mimetype": "text/x-python",
   "name": "python",
   "nbconvert_exporter": "python",
   "pygments_lexer": "ipython2",
   "version": "2.7.13"
  }
 },
 "nbformat": 4,
 "nbformat_minor": 2
}
